{
 "nbformat": 4,
 "nbformat_minor": 2,
 "metadata": {
  "language_info": {
   "name": "python",
   "codemirror_mode": {
    "name": "ipython",
    "version": 3
   },
   "version": "3.8.0-final"
  },
  "orig_nbformat": 2,
  "file_extension": ".py",
  "mimetype": "text/x-python",
  "name": "python",
  "npconvert_exporter": "python",
  "pygments_lexer": "ipython3",
  "version": 3,
  "kernelspec": {
   "name": "python38064bitcondac61baea020db4b8dba48eddc6323b089",
   "display_name": "Python 3.8.0 64-bit (conda)"
  }
 },
 "cells": [
  {
   "cell_type": "markdown",
   "execution_count": null,
   "metadata": {},
   "outputs": [],
   "source": [
    "## Tias Data Engineering\n",
    "Exercise 3: casting the data types"
   ]
  },
  {
   "cell_type": "code",
   "execution_count": 16,
   "metadata": {},
   "outputs": [],
   "source": [
    "#importing the pandas library\n",
    "import pandas as pd"
   ]
  },
  {
   "cell_type": "code",
   "execution_count": 17,
   "metadata": {},
   "outputs": [],
   "source": [
    "corona_data_url = \"https://raw.githubusercontent.com/CSSEGISandData/COVID-19/master/csse_covid_19_data/csse_covid_19_daily_reports/03-19-2020.csv\"\n",
    "df = pd.read_csv(corona_data_url)"
   ]
  },
  {
   "cell_type": "code",
   "execution_count": 18,
   "metadata": {},
   "outputs": [
    {
     "output_type": "execute_result",
     "data": {
      "text/plain": "  Province/State Country/Region          Last Update  Confirmed  Deaths  \\\n0          Hubei          China  2020-03-19T10:13:14      67800    3130   \n1            NaN          Italy  2020-03-19T17:43:03      41035    3405   \n2            NaN           Iran  2020-03-19T11:33:29      18407    1284   \n3            NaN          Spain  2020-03-19T20:13:08      17963     830   \n4            NaN        Germany  2020-03-19T20:13:08      15320      44   \n\n   Recovered  Latitude  Longitude  \n0      57682   30.9756   112.2707  \n1       4440   41.8719    12.5674  \n2       5710   32.4279    53.6880  \n3       1107   40.4637    -3.7492  \n4        113   51.1657    10.4515  ",
      "text/html": "<div>\n<style scoped>\n    .dataframe tbody tr th:only-of-type {\n        vertical-align: middle;\n    }\n\n    .dataframe tbody tr th {\n        vertical-align: top;\n    }\n\n    .dataframe thead th {\n        text-align: right;\n    }\n</style>\n<table border=\"1\" class=\"dataframe\">\n  <thead>\n    <tr style=\"text-align: right;\">\n      <th></th>\n      <th>Province/State</th>\n      <th>Country/Region</th>\n      <th>Last Update</th>\n      <th>Confirmed</th>\n      <th>Deaths</th>\n      <th>Recovered</th>\n      <th>Latitude</th>\n      <th>Longitude</th>\n    </tr>\n  </thead>\n  <tbody>\n    <tr>\n      <th>0</th>\n      <td>Hubei</td>\n      <td>China</td>\n      <td>2020-03-19T10:13:14</td>\n      <td>67800</td>\n      <td>3130</td>\n      <td>57682</td>\n      <td>30.9756</td>\n      <td>112.2707</td>\n    </tr>\n    <tr>\n      <th>1</th>\n      <td>NaN</td>\n      <td>Italy</td>\n      <td>2020-03-19T17:43:03</td>\n      <td>41035</td>\n      <td>3405</td>\n      <td>4440</td>\n      <td>41.8719</td>\n      <td>12.5674</td>\n    </tr>\n    <tr>\n      <th>2</th>\n      <td>NaN</td>\n      <td>Iran</td>\n      <td>2020-03-19T11:33:29</td>\n      <td>18407</td>\n      <td>1284</td>\n      <td>5710</td>\n      <td>32.4279</td>\n      <td>53.6880</td>\n    </tr>\n    <tr>\n      <th>3</th>\n      <td>NaN</td>\n      <td>Spain</td>\n      <td>2020-03-19T20:13:08</td>\n      <td>17963</td>\n      <td>830</td>\n      <td>1107</td>\n      <td>40.4637</td>\n      <td>-3.7492</td>\n    </tr>\n    <tr>\n      <th>4</th>\n      <td>NaN</td>\n      <td>Germany</td>\n      <td>2020-03-19T20:13:08</td>\n      <td>15320</td>\n      <td>44</td>\n      <td>113</td>\n      <td>51.1657</td>\n      <td>10.4515</td>\n    </tr>\n  </tbody>\n</table>\n</div>"
     },
     "metadata": {},
     "execution_count": 18
    }
   ],
   "source": [
    "df.head()"
   ]
  },
  {
   "cell_type": "code",
   "execution_count": 19,
   "metadata": {},
   "outputs": [
    {
     "output_type": "stream",
     "name": "stdout",
     "text": "<class 'pandas.core.frame.DataFrame'>\nRangeIndex: 292 entries, 0 to 291\nData columns (total 8 columns):\n #   Column          Non-Null Count  Dtype  \n---  ------          --------------  -----  \n 0   Province/State  133 non-null    object \n 1   Country/Region  292 non-null    object \n 2   Last Update     292 non-null    object \n 3   Confirmed       292 non-null    int64  \n 4   Deaths          292 non-null    int64  \n 5   Recovered       292 non-null    int64  \n 6   Latitude        292 non-null    float64\n 7   Longitude       292 non-null    float64\ndtypes: float64(2), int64(3), object(3)\nmemory usage: 18.4+ KB\n"
    }
   ],
   "source": [
    "df.info()"
   ]
  },
  {
   "cell_type": "markdown",
   "execution_count": null,
   "metadata": {},
   "outputs": [],
   "source": [
    "### Converting datatypes?\n",
    "\n",
    "we are going to cast column 2: Last Update to datetime\n",
    "\n"
   ]
  },
  {
   "cell_type": "code",
   "execution_count": 20,
   "metadata": {},
   "outputs": [],
   "source": [
    "# Excercise: fill in on the dots the name of the column that you want to cast as date\n",
    "\n",
    "df['Last Update'] = pd.to_datetime(df['Last Update'])\n",
    "\n",
    ""
   ]
  },
  {
   "cell_type": "code",
   "execution_count": 21,
   "metadata": {},
   "outputs": [
    {
     "output_type": "stream",
     "name": "stdout",
     "text": "<class 'pandas.core.frame.DataFrame'>\nRangeIndex: 292 entries, 0 to 291\nData columns (total 8 columns):\n #   Column          Non-Null Count  Dtype         \n---  ------          --------------  -----         \n 0   Province/State  133 non-null    object        \n 1   Country/Region  292 non-null    object        \n 2   Last Update     292 non-null    datetime64[ns]\n 3   Confirmed       292 non-null    int64         \n 4   Deaths          292 non-null    int64         \n 5   Recovered       292 non-null    int64         \n 6   Latitude        292 non-null    float64       \n 7   Longitude       292 non-null    float64       \ndtypes: datetime64[ns](1), float64(2), int64(3), object(2)\nmemory usage: 18.4+ KB\n"
    }
   ],
   "source": [
    "df.info()"
   ]
  },
  {
   "cell_type": "code",
   "execution_count": 22,
   "metadata": {},
   "outputs": [
    {
     "output_type": "execute_result",
     "data": {
      "text/plain": "2020"
     },
     "metadata": {},
     "execution_count": 22
    }
   ],
   "source": [
    "#now that the column is a DateTime type, we can simply get the year portion\n",
    "df['Last Update'].max().year"
   ]
  }
 ]
}