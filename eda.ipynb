{
 "nbformat": 4,
 "nbformat_minor": 2,
 "metadata": {
  "language_info": {
   "name": "python",
   "codemirror_mode": {
    "name": "ipython",
    "version": 3
   },
   "version": "3.8.0-final"
  },
  "orig_nbformat": 2,
  "file_extension": ".py",
  "mimetype": "text/x-python",
  "name": "python",
  "npconvert_exporter": "python",
  "pygments_lexer": "ipython3",
  "version": 3,
  "kernelspec": {
   "name": "python38064bitcondac61baea020db4b8dba48eddc6323b089",
   "display_name": "Python 3.8.0 64-bit (conda)"
  }
 },
 "cells": [
  {
   "cell_type": "markdown",
   "execution_count": null,
   "metadata": {},
   "outputs": [],
   "source": [
    "## Tias Data Engineering\n",
    "Exercise 4: Exploratory Data Analysis"
   ]
  },
  {
   "cell_type": "code",
   "execution_count": null,
   "metadata": {},
   "outputs": [],
   "source": [
    "#importing the pandas library\n",
    "import pandas as pd\n",
    "import matplotlib.pyplot as plt"
   ]
  },
  {
   "cell_type": "code",
   "execution_count": null,
   "metadata": {},
   "outputs": [],
   "source": [
    "corona_data_url = \"https://raw.githubusercontent.com/CSSEGISandData/COVID-19/master/csse_covid_19_data/csse_covid_19_daily_reports/03-19-2020.csv\"\n",
    "df = pd.read_csv(corona_data_url)\n",
    "#df['Last Update'] = pd.to_datetime(df['Last Update'])"
   ]
  },
  {
   "cell_type": "code",
   "execution_count": null,
   "metadata": {},
   "outputs": [],
   "source": [
    "df.head()"
   ]
  },
  {
   "cell_type": "markdown",
   "execution_count": null,
   "metadata": {},
   "outputs": [],
   "source": [
    "### EDA: Exploratory Data Analysis\n",
    "\n",
    "how do we figure out what is in the data:\n",
    "\n",
    "\n",
    "\n"
   ]
  },
  {
   "cell_type": "code",
   "execution_count": null,
   "metadata": {},
   "outputs": [],
   "source": [
    "# statistical overview of numerical values\n",
    "df.describe()"
   ]
  },
  {
   "cell_type": "markdown",
   "execution_count": null,
   "metadata": {},
   "outputs": [],
   "source": [
    "We look at the distribution on the confirmed cases"
   ]
  },
  {
   "cell_type": "code",
   "execution_count": null,
   "metadata": {},
   "outputs": [],
   "source": [
    "x = df['Confirmed']\n",
    "plt.hist(x, bins=12)  \n",
    "plt.ylabel('Number of Countries')\n",
    "plt.xlabel('Confirmed Cases');"
   ]
  },
  {
   "cell_type": "markdown",
   "execution_count": null,
   "metadata": {},
   "outputs": [],
   "source": [
    "Hmmm. not very balanced data, but has the majority of countries 0 cases or 5000?"
   ]
  },
  {
   "cell_type": "code",
   "execution_count": null,
   "metadata": {},
   "outputs": [],
   "source": [
    "#we filter the data a little bit (only countries with less than 100 confirmed cases)\n",
    "#Exercise: fill the missing code on the blank line\n",
    "x = df['Confirmed'][df['Confirmed']<100]\n",
    "\n",
    "plt.ylabel('Number of Countries')\n",
    "plt.xlabel('Confirmed Cases');"
   ]
  },
  {
   "cell_type": "markdown",
   "execution_count": null,
   "metadata": {},
   "outputs": [],
   "source": [
    "How recent is this data? "
   ]
  },
  {
   "cell_type": "code",
   "execution_count": null,
   "metadata": {},
   "outputs": [],
   "source": [
    "#Exercise: Fill the right column on the dots\n",
    "x = df['...............']\n",
    "plt.hist(x, bins=12)  \n",
    "plt.xticks(rotation=90)\n",
    "plt.ylabel('Number of Countries')\n",
    "plt.xlabel('Recentness of data')\n"
   ]
  },
  {
   "cell_type": "markdown",
   "execution_count": null,
   "metadata": {},
   "outputs": [],
   "source": [
    "What happened there? Hmmm, did we forget something?"
   ]
  },
  {
   "cell_type": "code",
   "execution_count": null,
   "metadata": {},
   "outputs": [],
   "source": [
    "# Exercise: cast the problematic column to the right type and try again!\n",
    "\n"
   ]
  },
  {
   "cell_type": "markdown",
   "execution_count": null,
   "metadata": {},
   "outputs": [],
   "source": [
    "How do i figure this stuff out on my own?????"
   ]
  },
  {
   "cell_type": "code",
   "execution_count": null,
   "metadata": {},
   "outputs": [],
   "source": [
    "# Exercise: Google for 'matplotlib plot logarithmic scale'\n",
    "# Plot this graph with the y axis logarithmic\n",
    "# the easiest way is in the first stackoverflow article you find, second solution to the question\n",
    "\n",
    "x = df['Confirmed']\n",
    "plt.hist(x, bins=12)  \n",
    "plt.ylabel('Number of Countries')\n",
    "plt.xlabel('Confirmed Cases')\n",
    "plt.###############"
   ]
  }
 ]
}