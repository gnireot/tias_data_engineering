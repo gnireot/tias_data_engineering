{
 "nbformat": 4,
 "nbformat_minor": 2,
 "metadata": {
  "language_info": {
   "name": "python",
   "codemirror_mode": {
    "name": "ipython",
    "version": 3
   },
   "version": "3.8.0-final"
  },
  "orig_nbformat": 2,
  "file_extension": ".py",
  "mimetype": "text/x-python",
  "name": "python",
  "npconvert_exporter": "python",
  "pygments_lexer": "ipython3",
  "version": 3,
  "kernelspec": {
   "name": "python38064bitcondac61baea020db4b8dba48eddc6323b089",
   "display_name": "Python 3.8.0 64-bit (conda)"
  }
 },
 "cells": [
  {
   "cell_type": "markdown",
   "execution_count": null,
   "metadata": {},
   "outputs": [],
   "source": [
    "## Tias Data Engineering\n",
    "Loading Some Data"
   ]
  },
  {
   "cell_type": "code",
   "execution_count": 1,
   "metadata": {},
   "outputs": [],
   "source": [
    "#importing the pandas library\n",
    "import pandas as pd"
   ]
  },
  {
   "cell_type": "code",
   "execution_count": 2,
   "metadata": {},
   "outputs": [],
   "source": [
    "corona_data_url = \"https://raw.githubusercontent.com/CSSEGISandData/COVID-19/master/csse_covid_19_data/csse_covid_19_daily_reports/03-18-2020.csv\"\n",
    "df = pd.read_csv(corona_data_url)"
   ]
  },
  {
   "cell_type": "code",
   "execution_count": 3,
   "metadata": {},
   "outputs": [
    {
     "data": {
      "text/html": "<div>\n<style scoped>\n    .dataframe tbody tr th:only-of-type {\n        vertical-align: middle;\n    }\n\n    .dataframe tbody tr th {\n        vertical-align: top;\n    }\n\n    .dataframe thead th {\n        text-align: right;\n    }\n</style>\n<table border=\"1\" class=\"dataframe\">\n  <thead>\n    <tr style=\"text-align: right;\">\n      <th></th>\n      <th>Province/State</th>\n      <th>Country/Region</th>\n      <th>Last Update</th>\n      <th>Confirmed</th>\n      <th>Deaths</th>\n      <th>Recovered</th>\n      <th>Latitude</th>\n      <th>Longitude</th>\n    </tr>\n  </thead>\n  <tbody>\n    <tr>\n      <th>0</th>\n      <td>Hubei</td>\n      <td>China</td>\n      <td>2020-03-18T12:13:09</td>\n      <td>67800</td>\n      <td>3122</td>\n      <td>56927</td>\n      <td>30.9756</td>\n      <td>112.2707</td>\n    </tr>\n    <tr>\n      <th>1</th>\n      <td>NaN</td>\n      <td>Italy</td>\n      <td>2020-03-18T17:33:05</td>\n      <td>35713</td>\n      <td>2978</td>\n      <td>4025</td>\n      <td>41.8719</td>\n      <td>12.5674</td>\n    </tr>\n    <tr>\n      <th>2</th>\n      <td>NaN</td>\n      <td>Iran</td>\n      <td>2020-03-18T12:33:02</td>\n      <td>17361</td>\n      <td>1135</td>\n      <td>5389</td>\n      <td>32.4279</td>\n      <td>53.6880</td>\n    </tr>\n    <tr>\n      <th>3</th>\n      <td>NaN</td>\n      <td>Spain</td>\n      <td>2020-03-18T13:13:13</td>\n      <td>13910</td>\n      <td>623</td>\n      <td>1081</td>\n      <td>40.4637</td>\n      <td>-3.7492</td>\n    </tr>\n    <tr>\n      <th>4</th>\n      <td>NaN</td>\n      <td>Germany</td>\n      <td>2020-03-18T19:33:02</td>\n      <td>12327</td>\n      <td>28</td>\n      <td>105</td>\n      <td>51.1657</td>\n      <td>10.4515</td>\n    </tr>\n  </tbody>\n</table>\n</div>",
      "text/plain": "  Province/State Country/Region          Last Update  Confirmed  Deaths  \\\n0          Hubei          China  2020-03-18T12:13:09      67800    3122   \n1            NaN          Italy  2020-03-18T17:33:05      35713    2978   \n2            NaN           Iran  2020-03-18T12:33:02      17361    1135   \n3            NaN          Spain  2020-03-18T13:13:13      13910     623   \n4            NaN        Germany  2020-03-18T19:33:02      12327      28   \n\n   Recovered  Latitude  Longitude  \n0      56927   30.9756   112.2707  \n1       4025   41.8719    12.5674  \n2       5389   32.4279    53.6880  \n3       1081   40.4637    -3.7492  \n4        105   51.1657    10.4515  "
     },
     "execution_count": 3,
     "metadata": {},
     "output_type": "execute_result"
    }
   ],
   "source": [
    "df.head()"
   ]
  },
  {
   "cell_type": "code",
   "execution_count": 4,
   "metadata": {},
   "outputs": [
    {
     "name": "stdout",
     "output_type": "stream",
     "text": "<class 'pandas.core.frame.DataFrame'>\nRangeIndex: 284 entries, 0 to 283\nData columns (total 8 columns):\n #   Column          Non-Null Count  Dtype  \n---  ------          --------------  -----  \n 0   Province/State  130 non-null    object \n 1   Country/Region  284 non-null    object \n 2   Last Update     284 non-null    object \n 3   Confirmed       284 non-null    int64  \n 4   Deaths          284 non-null    int64  \n 5   Recovered       284 non-null    int64  \n 6   Latitude        284 non-null    float64\n 7   Longitude       284 non-null    float64\ndtypes: float64(2), int64(3), object(3)\nmemory usage: 17.9+ KB\n"
    }
   ],
   "source": [
    "df.info()"
   ]
  },
  {
   "cell_type": "markdown",
   "metadata": {},
   "source": [
    "### What are the data types?\n",
    "\n",
    "look at the output above: what should the datatypes in the dataset be?   \n",
    "answer like this: ColumnName : Float, ColumnName : Boolean, ColumnName : AnotherDataType\n",
    "\n",
    "DataTypes | Examples\n",
    "--- | ---\n",
    "List | [1,2,3,4,6]  \n",
    "Dictionary | {“blue”:23,”red”:27}\n",
    "Geo-Coordinate | (52.23473882,5.27388282)\n",
    "Boolean | True, False, True, False\n",
    "Numerical (integer)    &nbsp;&nbsp; | 1,2,3,4,5,3\n",
    "Strings | “orange”, “blue”, “blue”, “yellow”\n",
    "Binary | 10010011101001000001010011\n",
    "Floating point | 3.14159, 1.000, 400.2\n",
    "Date | 2020-03-20, 2020-05-29, 2021-03-22\n",
    "DateTime | 2020-03-20 10:46, 2018-12-05 18:30\n",
    "\n",
    "\n"
   ]
  },
  {
   "cell_type": "code",
   "execution_count": null,
   "metadata": {},
   "outputs": [],
   "source": [
    "# use this block to write down your answer, copy paste it in the Zoom Chat\n",
    "\n"
   ]
  }
 ]
}