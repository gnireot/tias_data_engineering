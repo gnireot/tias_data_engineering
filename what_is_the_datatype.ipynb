{
 "nbformat": 4,
 "nbformat_minor": 2,
 "metadata": {
  "language_info": {
   "name": "python",
   "codemirror_mode": {
    "name": "ipython",
    "version": 3
   },
   "version": "3.8.0-final"
  },
  "orig_nbformat": 2,
  "file_extension": ".py",
  "mimetype": "text/x-python",
  "name": "python",
  "npconvert_exporter": "python",
  "pygments_lexer": "ipython3",
  "version": 3,
  "kernelspec": {
   "name": "python38064bitcondac61baea020db4b8dba48eddc6323b089",
   "display_name": "Python 3.8.0 64-bit (conda)"
  }
 },
 "cells": [
  {
   "cell_type": "markdown",
   "execution_count": null,
   "metadata": {},
   "outputs": [],
   "source": [
    "## Tias Data Engineering\n",
    "What are the data types?"
   ]
  },
  {
   "cell_type": "code",
   "execution_count": null,
   "metadata": {},
   "outputs": [],
   "source": [
    "#importing the pandas library\n",
    "import pandas as pd"
   ]
  },
  {
   "cell_type": "code",
   "execution_count": null,
   "metadata": {},
   "outputs": [],
   "source": [
    "corona_data_url = \"https://raw.githubusercontent.com/CSSEGISandData/COVID-19/master/csse_covid_19_data/csse_covid_19_daily_reports/03-19-2020.csv\"\n",
    "df = pd.read_csv(corona_data_url)"
   ]
  },
  {
   "cell_type": "code",
   "execution_count": null,
   "metadata": {},
   "outputs": [],
   "source": [
    "df.head()"
   ]
  },
  {
   "cell_type": "code",
   "execution_count": null,
   "metadata": {},
   "outputs": [],
   "source": [
    "df.info()"
   ]
  },
  {
   "cell_type": "markdown",
   "execution_count": null,
   "metadata": {},
   "outputs": [],
   "source": [
    "### What are the data types?\n",
    "\n",
    "look at the outputs above: what should the datatype in the dataset be for each column, write down for all 8 columns?  \n",
    "answer like this: ColumnName : Float, ColumnName : Boolean, ColumnName : AnotherDataType\n",
    "\n",
    "DataTypes | Examples\n",
    "--- | ---\n",
    "List | [1,2,3,4,6]  \n",
    "Dictionary | {“blue”:23,”red”:27}\n",
    "Geo-Coordinate | (52.23473882,5.27388282)\n",
    "Boolean | True, False, True, False\n",
    "Numerical (integer)    &nbsp;&nbsp; | 1,2,3,4,5,3\n",
    "Strings | “orange”, “blue”, “blue”, “yellow”\n",
    "Binary | 10010011101001000001010011\n",
    "Floating point | 3.14159, 1.000, 400.2\n",
    "Date | 2020-03-20, 2020-05-29, 2021-03-22\n",
    "DateTime | 2020-03-20 10:46, 2018-12-05 18:30\n",
    "\n",
    "\n"
   ]
  },
  {
   "cell_type": "code",
   "execution_count": null,
   "metadata": {},
   "outputs": [],
   "source": [
    "# use this block to write down your answer, copy paste it in the Zoom Chat\n",
    "\n"
   ]
  }
 ]
}