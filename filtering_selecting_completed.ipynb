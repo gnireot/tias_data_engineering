{
 "nbformat": 4,
 "nbformat_minor": 2,
 "metadata": {
  "language_info": {
   "name": "python",
   "codemirror_mode": {
    "name": "ipython",
    "version": 3
   },
   "version": "3.8.0-final"
  },
  "orig_nbformat": 2,
  "file_extension": ".py",
  "mimetype": "text/x-python",
  "name": "python",
  "npconvert_exporter": "python",
  "pygments_lexer": "ipython3",
  "version": 3,
  "kernelspec": {
   "name": "python38064bitcondac61baea020db4b8dba48eddc6323b089",
   "display_name": "Python 3.8.0 64-bit (conda)"
  }
 },
 "cells": [
  {
   "cell_type": "markdown",
   "execution_count": null,
   "metadata": {},
   "outputs": [],
   "source": [
    "## Tias Data Engineering\n",
    "Exercise 5: Filtering and Selecting"
   ]
  },
  {
   "cell_type": "code",
   "execution_count": 1,
   "metadata": {},
   "outputs": [],
   "source": [
    "#importing the pandas library\n",
    "import pandas as pd\n",
    "import matplotlib.pyplot as plt"
   ]
  },
  {
   "cell_type": "code",
   "execution_count": 2,
   "metadata": {},
   "outputs": [],
   "source": [
    "corona_data_url = \"https://raw.githubusercontent.com/CSSEGISandData/COVID-19/master/csse_covid_19_data/csse_covid_19_daily_reports/03-19-2020.csv\"\n",
    "df = pd.read_csv(corona_data_url)\n",
    "df['Last Update'] = pd.to_datetime(df['Last Update'])"
   ]
  },
  {
   "cell_type": "markdown",
   "execution_count": null,
   "metadata": {},
   "outputs": [],
   "source": [
    "### Filtering and selecting\n",
    "\n",
    "getting values, subsets and aggregations:  \n",
    "\n"
   ]
  },
  {
   "cell_type": "code",
   "execution_count": 3,
   "metadata": {},
   "outputs": [
    {
     "output_type": "execute_result",
     "data": {
      "text/plain": "0                      China\n1                      Italy\n2                       Iran\n3                      Spain\n4                    Germany\n               ...          \n287                   Jersey\n288              Puerto Rico\n289    Republic of the Congo\n290              The Bahamas\n291               The Gambia\nName: Country/Region, Length: 292, dtype: object"
     },
     "metadata": {},
     "execution_count": 3
    }
   ],
   "source": [
    "#selecting one column:\n",
    "df['Country/Region']"
   ]
  },
  {
   "cell_type": "code",
   "execution_count": 4,
   "metadata": {},
   "outputs": [
    {
     "output_type": "execute_result",
     "data": {
      "text/plain": "   Province/State Country/Region         Last Update  Confirmed  Deaths  \\\n10    Netherlands    Netherlands 2020-03-19 14:53:06       2460      76   \n11            NaN        Austria 2020-03-19 14:53:05       2013       6   \n12            NaN        Belgium 2020-03-19 11:13:17       1795      21   \n13            NaN         Norway 2020-03-19 17:13:14       1746       7   \n14            NaN         Sweden 2020-03-19 15:13:27       1439      11   \n15      Guangdong          China 2020-03-19 01:13:06       1378       8   \n16     Washington             US 2020-03-19 23:43:04       1376      74   \n17          Henan          China 2020-03-14 09:53:08       1273      22   \n18       Zhejiang          China 2020-03-19 10:13:14       1233       1   \n19        Denmark        Denmark 2020-03-19 17:13:42       1151       6   \n\n    Recovered  Latitude  Longitude  \n10          2   52.1326     5.2913  \n11          9   47.5162    14.5501  \n12         31   50.5039     4.4699  \n13          1   60.4720     8.4689  \n14         16   60.1282    18.6435  \n15       1318   23.3417   113.4244  \n16          0   47.4009  -121.4905  \n17       1250   33.8820   113.6140  \n18       1217   29.1832   120.0934  \n19          1   56.2639     9.5018  ",
      "text/html": "<div>\n<style scoped>\n    .dataframe tbody tr th:only-of-type {\n        vertical-align: middle;\n    }\n\n    .dataframe tbody tr th {\n        vertical-align: top;\n    }\n\n    .dataframe thead th {\n        text-align: right;\n    }\n</style>\n<table border=\"1\" class=\"dataframe\">\n  <thead>\n    <tr style=\"text-align: right;\">\n      <th></th>\n      <th>Province/State</th>\n      <th>Country/Region</th>\n      <th>Last Update</th>\n      <th>Confirmed</th>\n      <th>Deaths</th>\n      <th>Recovered</th>\n      <th>Latitude</th>\n      <th>Longitude</th>\n    </tr>\n  </thead>\n  <tbody>\n    <tr>\n      <th>10</th>\n      <td>Netherlands</td>\n      <td>Netherlands</td>\n      <td>2020-03-19 14:53:06</td>\n      <td>2460</td>\n      <td>76</td>\n      <td>2</td>\n      <td>52.1326</td>\n      <td>5.2913</td>\n    </tr>\n    <tr>\n      <th>11</th>\n      <td>NaN</td>\n      <td>Austria</td>\n      <td>2020-03-19 14:53:05</td>\n      <td>2013</td>\n      <td>6</td>\n      <td>9</td>\n      <td>47.5162</td>\n      <td>14.5501</td>\n    </tr>\n    <tr>\n      <th>12</th>\n      <td>NaN</td>\n      <td>Belgium</td>\n      <td>2020-03-19 11:13:17</td>\n      <td>1795</td>\n      <td>21</td>\n      <td>31</td>\n      <td>50.5039</td>\n      <td>4.4699</td>\n    </tr>\n    <tr>\n      <th>13</th>\n      <td>NaN</td>\n      <td>Norway</td>\n      <td>2020-03-19 17:13:14</td>\n      <td>1746</td>\n      <td>7</td>\n      <td>1</td>\n      <td>60.4720</td>\n      <td>8.4689</td>\n    </tr>\n    <tr>\n      <th>14</th>\n      <td>NaN</td>\n      <td>Sweden</td>\n      <td>2020-03-19 15:13:27</td>\n      <td>1439</td>\n      <td>11</td>\n      <td>16</td>\n      <td>60.1282</td>\n      <td>18.6435</td>\n    </tr>\n    <tr>\n      <th>15</th>\n      <td>Guangdong</td>\n      <td>China</td>\n      <td>2020-03-19 01:13:06</td>\n      <td>1378</td>\n      <td>8</td>\n      <td>1318</td>\n      <td>23.3417</td>\n      <td>113.4244</td>\n    </tr>\n    <tr>\n      <th>16</th>\n      <td>Washington</td>\n      <td>US</td>\n      <td>2020-03-19 23:43:04</td>\n      <td>1376</td>\n      <td>74</td>\n      <td>0</td>\n      <td>47.4009</td>\n      <td>-121.4905</td>\n    </tr>\n    <tr>\n      <th>17</th>\n      <td>Henan</td>\n      <td>China</td>\n      <td>2020-03-14 09:53:08</td>\n      <td>1273</td>\n      <td>22</td>\n      <td>1250</td>\n      <td>33.8820</td>\n      <td>113.6140</td>\n    </tr>\n    <tr>\n      <th>18</th>\n      <td>Zhejiang</td>\n      <td>China</td>\n      <td>2020-03-19 10:13:14</td>\n      <td>1233</td>\n      <td>1</td>\n      <td>1217</td>\n      <td>29.1832</td>\n      <td>120.0934</td>\n    </tr>\n    <tr>\n      <th>19</th>\n      <td>Denmark</td>\n      <td>Denmark</td>\n      <td>2020-03-19 17:13:42</td>\n      <td>1151</td>\n      <td>6</td>\n      <td>1</td>\n      <td>56.2639</td>\n      <td>9.5018</td>\n    </tr>\n  </tbody>\n</table>\n</div>"
     },
     "metadata": {},
     "execution_count": 4
    }
   ],
   "source": [
    "#selecting row 10 - 20\n",
    "df.iloc[10:20]"
   ]
  },
  {
   "cell_type": "code",
   "execution_count": 5,
   "metadata": {},
   "outputs": [
    {
     "output_type": "execute_result",
     "data": {
      "text/plain": "    Province/State         Country/Region         Last Update  Confirmed  \\\n282        Mayotte                 France 2020-03-18 14:33:15          0   \n283        Reunion                 France 2020-03-18 14:33:15          0   \n284            NaN              Greenland 2020-03-19 09:33:04          0   \n285            NaN                   Guam 2020-03-18 19:14:33          0   \n286            NaN               Guernsey 2020-03-17 18:33:03          0   \n287            NaN                 Jersey 2020-03-17 18:33:03          0   \n288            NaN            Puerto Rico 2020-03-17 16:13:14          0   \n289            NaN  Republic of the Congo 2020-03-17 21:33:03          0   \n290            NaN            The Bahamas 2020-03-19 12:13:38          0   \n291            NaN             The Gambia 2020-03-18 14:13:56          0   \n\n     Deaths  Recovered  Latitude  Longitude  \n282       0          0  -12.8431    45.1383  \n283       0          0  -21.1351    55.2471  \n284       0          0   72.0000   -40.0000  \n285       0          0   13.4443   144.7937  \n286       0          0   49.4500    -2.5800  \n287       0          0   49.1900    -2.1100  \n288       0          0   18.2000   -66.5000  \n289       0          0   -1.4400    15.5560  \n290       0          0   24.2500   -76.0000  \n291       0          0   13.4667   -16.6000  ",
      "text/html": "<div>\n<style scoped>\n    .dataframe tbody tr th:only-of-type {\n        vertical-align: middle;\n    }\n\n    .dataframe tbody tr th {\n        vertical-align: top;\n    }\n\n    .dataframe thead th {\n        text-align: right;\n    }\n</style>\n<table border=\"1\" class=\"dataframe\">\n  <thead>\n    <tr style=\"text-align: right;\">\n      <th></th>\n      <th>Province/State</th>\n      <th>Country/Region</th>\n      <th>Last Update</th>\n      <th>Confirmed</th>\n      <th>Deaths</th>\n      <th>Recovered</th>\n      <th>Latitude</th>\n      <th>Longitude</th>\n    </tr>\n  </thead>\n  <tbody>\n    <tr>\n      <th>282</th>\n      <td>Mayotte</td>\n      <td>France</td>\n      <td>2020-03-18 14:33:15</td>\n      <td>0</td>\n      <td>0</td>\n      <td>0</td>\n      <td>-12.8431</td>\n      <td>45.1383</td>\n    </tr>\n    <tr>\n      <th>283</th>\n      <td>Reunion</td>\n      <td>France</td>\n      <td>2020-03-18 14:33:15</td>\n      <td>0</td>\n      <td>0</td>\n      <td>0</td>\n      <td>-21.1351</td>\n      <td>55.2471</td>\n    </tr>\n    <tr>\n      <th>284</th>\n      <td>NaN</td>\n      <td>Greenland</td>\n      <td>2020-03-19 09:33:04</td>\n      <td>0</td>\n      <td>0</td>\n      <td>0</td>\n      <td>72.0000</td>\n      <td>-40.0000</td>\n    </tr>\n    <tr>\n      <th>285</th>\n      <td>NaN</td>\n      <td>Guam</td>\n      <td>2020-03-18 19:14:33</td>\n      <td>0</td>\n      <td>0</td>\n      <td>0</td>\n      <td>13.4443</td>\n      <td>144.7937</td>\n    </tr>\n    <tr>\n      <th>286</th>\n      <td>NaN</td>\n      <td>Guernsey</td>\n      <td>2020-03-17 18:33:03</td>\n      <td>0</td>\n      <td>0</td>\n      <td>0</td>\n      <td>49.4500</td>\n      <td>-2.5800</td>\n    </tr>\n    <tr>\n      <th>287</th>\n      <td>NaN</td>\n      <td>Jersey</td>\n      <td>2020-03-17 18:33:03</td>\n      <td>0</td>\n      <td>0</td>\n      <td>0</td>\n      <td>49.1900</td>\n      <td>-2.1100</td>\n    </tr>\n    <tr>\n      <th>288</th>\n      <td>NaN</td>\n      <td>Puerto Rico</td>\n      <td>2020-03-17 16:13:14</td>\n      <td>0</td>\n      <td>0</td>\n      <td>0</td>\n      <td>18.2000</td>\n      <td>-66.5000</td>\n    </tr>\n    <tr>\n      <th>289</th>\n      <td>NaN</td>\n      <td>Republic of the Congo</td>\n      <td>2020-03-17 21:33:03</td>\n      <td>0</td>\n      <td>0</td>\n      <td>0</td>\n      <td>-1.4400</td>\n      <td>15.5560</td>\n    </tr>\n    <tr>\n      <th>290</th>\n      <td>NaN</td>\n      <td>The Bahamas</td>\n      <td>2020-03-19 12:13:38</td>\n      <td>0</td>\n      <td>0</td>\n      <td>0</td>\n      <td>24.2500</td>\n      <td>-76.0000</td>\n    </tr>\n    <tr>\n      <th>291</th>\n      <td>NaN</td>\n      <td>The Gambia</td>\n      <td>2020-03-18 14:13:56</td>\n      <td>0</td>\n      <td>0</td>\n      <td>0</td>\n      <td>13.4667</td>\n      <td>-16.6000</td>\n    </tr>\n  </tbody>\n</table>\n</div>"
     },
     "metadata": {},
     "execution_count": 5
    }
   ],
   "source": [
    "# select the last 10 rows\n",
    "df.iloc[-10:]"
   ]
  },
  {
   "cell_type": "code",
   "execution_count": 6,
   "metadata": {},
   "outputs": [
    {
     "output_type": "execute_result",
     "data": {
      "text/plain": "     Province/State         Country/Region         Last Update  Confirmed  \\\n210  Grand Princess                 Canada 2020-03-18 11:53:04          9   \n211             NaN          Cote d'Ivoire 2020-03-19 01:03:46          9   \n212             NaN              Guatemala 2020-03-19 17:13:24          9   \n213             NaN    Trinidad and Tobago 2020-03-19 10:53:03          9   \n214          Alaska                     US 2020-03-19 02:33:09          9   \n..              ...                    ...                 ...        ...   \n287             NaN                 Jersey 2020-03-17 18:33:03          0   \n288             NaN            Puerto Rico 2020-03-17 16:13:14          0   \n289             NaN  Republic of the Congo 2020-03-17 21:33:03          0   \n290             NaN            The Bahamas 2020-03-19 12:13:38          0   \n291             NaN             The Gambia 2020-03-18 14:13:56          0   \n\n     Deaths  Recovered  Latitude  Longitude  \n210       0          0   37.6489  -122.6655  \n211       0          1    7.5400    -5.5471  \n212       1          0   15.7835   -90.2308  \n213       0          0   10.6918   -61.2225  \n214       0          0   61.3707  -152.4044  \n..      ...        ...       ...        ...  \n287       0          0   49.1900    -2.1100  \n288       0          0   18.2000   -66.5000  \n289       0          0   -1.4400    15.5560  \n290       0          0   24.2500   -76.0000  \n291       0          0   13.4667   -16.6000  \n\n[82 rows x 8 columns]",
      "text/html": "<div>\n<style scoped>\n    .dataframe tbody tr th:only-of-type {\n        vertical-align: middle;\n    }\n\n    .dataframe tbody tr th {\n        vertical-align: top;\n    }\n\n    .dataframe thead th {\n        text-align: right;\n    }\n</style>\n<table border=\"1\" class=\"dataframe\">\n  <thead>\n    <tr style=\"text-align: right;\">\n      <th></th>\n      <th>Province/State</th>\n      <th>Country/Region</th>\n      <th>Last Update</th>\n      <th>Confirmed</th>\n      <th>Deaths</th>\n      <th>Recovered</th>\n      <th>Latitude</th>\n      <th>Longitude</th>\n    </tr>\n  </thead>\n  <tbody>\n    <tr>\n      <th>210</th>\n      <td>Grand Princess</td>\n      <td>Canada</td>\n      <td>2020-03-18 11:53:04</td>\n      <td>9</td>\n      <td>0</td>\n      <td>0</td>\n      <td>37.6489</td>\n      <td>-122.6655</td>\n    </tr>\n    <tr>\n      <th>211</th>\n      <td>NaN</td>\n      <td>Cote d'Ivoire</td>\n      <td>2020-03-19 01:03:46</td>\n      <td>9</td>\n      <td>0</td>\n      <td>1</td>\n      <td>7.5400</td>\n      <td>-5.5471</td>\n    </tr>\n    <tr>\n      <th>212</th>\n      <td>NaN</td>\n      <td>Guatemala</td>\n      <td>2020-03-19 17:13:24</td>\n      <td>9</td>\n      <td>1</td>\n      <td>0</td>\n      <td>15.7835</td>\n      <td>-90.2308</td>\n    </tr>\n    <tr>\n      <th>213</th>\n      <td>NaN</td>\n      <td>Trinidad and Tobago</td>\n      <td>2020-03-19 10:53:03</td>\n      <td>9</td>\n      <td>0</td>\n      <td>0</td>\n      <td>10.6918</td>\n      <td>-61.2225</td>\n    </tr>\n    <tr>\n      <th>214</th>\n      <td>Alaska</td>\n      <td>US</td>\n      <td>2020-03-19 02:33:09</td>\n      <td>9</td>\n      <td>0</td>\n      <td>0</td>\n      <td>61.3707</td>\n      <td>-152.4044</td>\n    </tr>\n    <tr>\n      <th>...</th>\n      <td>...</td>\n      <td>...</td>\n      <td>...</td>\n      <td>...</td>\n      <td>...</td>\n      <td>...</td>\n      <td>...</td>\n      <td>...</td>\n    </tr>\n    <tr>\n      <th>287</th>\n      <td>NaN</td>\n      <td>Jersey</td>\n      <td>2020-03-17 18:33:03</td>\n      <td>0</td>\n      <td>0</td>\n      <td>0</td>\n      <td>49.1900</td>\n      <td>-2.1100</td>\n    </tr>\n    <tr>\n      <th>288</th>\n      <td>NaN</td>\n      <td>Puerto Rico</td>\n      <td>2020-03-17 16:13:14</td>\n      <td>0</td>\n      <td>0</td>\n      <td>0</td>\n      <td>18.2000</td>\n      <td>-66.5000</td>\n    </tr>\n    <tr>\n      <th>289</th>\n      <td>NaN</td>\n      <td>Republic of the Congo</td>\n      <td>2020-03-17 21:33:03</td>\n      <td>0</td>\n      <td>0</td>\n      <td>0</td>\n      <td>-1.4400</td>\n      <td>15.5560</td>\n    </tr>\n    <tr>\n      <th>290</th>\n      <td>NaN</td>\n      <td>The Bahamas</td>\n      <td>2020-03-19 12:13:38</td>\n      <td>0</td>\n      <td>0</td>\n      <td>0</td>\n      <td>24.2500</td>\n      <td>-76.0000</td>\n    </tr>\n    <tr>\n      <th>291</th>\n      <td>NaN</td>\n      <td>The Gambia</td>\n      <td>2020-03-18 14:13:56</td>\n      <td>0</td>\n      <td>0</td>\n      <td>0</td>\n      <td>13.4667</td>\n      <td>-16.6000</td>\n    </tr>\n  </tbody>\n</table>\n<p>82 rows × 8 columns</p>\n</div>"
     },
     "metadata": {},
     "execution_count": 6
    }
   ],
   "source": [
    "#filter rows on value:\n",
    "df[df['Confirmed']<10]"
   ]
  },
  {
   "cell_type": "markdown",
   "execution_count": null,
   "metadata": {},
   "outputs": [],
   "source": [
    "In the news was that Italy has more deaths than China now, let's check that:"
   ]
  },
  {
   "cell_type": "code",
   "execution_count": 7,
   "metadata": {},
   "outputs": [
    {
     "output_type": "execute_result",
     "data": {
      "text/plain": "     Province/State Country/Region         Last Update  Confirmed  Deaths  \\\n0             Hubei          China 2020-03-19 10:13:14      67800    3130   \n1               NaN          Italy 2020-03-19 17:43:03      41035    3405   \n15        Guangdong          China 2020-03-19 01:13:06       1378       8   \n17            Henan          China 2020-03-14 09:53:08       1273      22   \n18         Zhejiang          China 2020-03-19 10:13:14       1233       1   \n20            Hunan          China 2020-03-14 08:33:03       1018       4   \n21            Anhui          China 2020-03-11 02:18:14        990       6   \n23          Jiangxi          China 2020-03-12 02:13:04        935       1   \n27         Shandong          China 2020-03-19 01:02:56        761       7   \n32          Jiangsu          China 2020-03-15 01:53:02        631       0   \n34        Chongqing          China 2020-03-15 03:53:04        576       6   \n36          Sichuan          China 2020-03-19 10:13:14        540       3   \n37     Heilongjiang          China 2020-03-19 01:02:56        483      13   \n38          Beijing          China 2020-03-19 05:13:10        480       8   \n46         Shanghai          China 2020-03-19 01:02:56        363       3   \n53            Hebei          China 2020-03-13 11:09:03        318       6   \n56           Fujian          China 2020-03-11 02:18:14        296       1   \n68          Guangxi          China 2020-03-18 00:33:02        253       2   \n69          Shaanxi          China 2020-03-18 03:53:02        246       3   \n74        Hong Kong          China 2020-03-19 09:53:20        208       4   \n81           Yunnan          China 2020-03-16 23:53:02        176       2   \n82           Hainan          China 2020-03-16 14:38:45        168       6   \n89          Guizhou          China 2020-03-18 01:53:03        146       2   \n92          Tianjin          China 2020-03-19 23:43:03        137       3   \n93            Gansu          China 2020-03-19 14:33:08        134       2   \n94           Shanxi          China 2020-03-13 11:09:03        133       0   \n95         Liaoning          China 2020-03-18 02:13:06        125       1   \n115           Jilin          China 2020-03-16 00:22:10         93       1   \n125        Xinjiang          China 2020-03-11 02:18:14         76       3   \n127  Inner Mongolia          China 2020-03-19 01:03:02         75       1   \n128         Ningxia          China 2020-03-16 14:38:45         75       0   \n181         Qinghai          China 2020-03-11 02:18:14         18       0   \n186           Macau          China 2020-03-19 01:02:56         17       0   \n262           Tibet          China 2020-03-11 02:18:14          1       0   \n\n     Recovered  Latitude  Longitude  \n0        57682   30.9756   112.2707  \n1         4440   41.8719    12.5674  \n15        1318   23.3417   113.4244  \n17        1250   33.8820   113.6140  \n18        1217   29.1832   120.0934  \n20        1014   27.6104   111.7088  \n21         984   31.8257   117.2264  \n23         934   27.6140   115.7221  \n27         747   36.3427   118.1498  \n32         631   32.9711   119.4550  \n34         570   30.0572   107.8740  \n36         536   30.6171   102.7103  \n37         460   47.8620   127.7615  \n38         380   40.1824   116.4142  \n46         326   31.2020   121.4491  \n53         310   38.0428   114.5149  \n56         295   26.0789   117.9874  \n68         250   23.8298   108.7881  \n69         237   35.1917   108.8701  \n74          95   22.3000   114.2000  \n81         172   24.9740   101.4870  \n82         161   19.1959   109.7453  \n89         144   26.8154   106.8748  \n92         133   39.3054   117.3230  \n93          91   36.0611   103.8343  \n94         133   37.5777   112.2922  \n95         122   41.2956   122.6085  \n115         92   43.6661   126.1923  \n125         73   41.1129    85.2401  \n127         74   44.0935   113.9448  \n128         75   37.2692   106.1655  \n181         18   35.7452    95.9956  \n186         10   22.1667   113.5500  \n262          1   31.6927    88.0924  ",
      "text/html": "<div>\n<style scoped>\n    .dataframe tbody tr th:only-of-type {\n        vertical-align: middle;\n    }\n\n    .dataframe tbody tr th {\n        vertical-align: top;\n    }\n\n    .dataframe thead th {\n        text-align: right;\n    }\n</style>\n<table border=\"1\" class=\"dataframe\">\n  <thead>\n    <tr style=\"text-align: right;\">\n      <th></th>\n      <th>Province/State</th>\n      <th>Country/Region</th>\n      <th>Last Update</th>\n      <th>Confirmed</th>\n      <th>Deaths</th>\n      <th>Recovered</th>\n      <th>Latitude</th>\n      <th>Longitude</th>\n    </tr>\n  </thead>\n  <tbody>\n    <tr>\n      <th>0</th>\n      <td>Hubei</td>\n      <td>China</td>\n      <td>2020-03-19 10:13:14</td>\n      <td>67800</td>\n      <td>3130</td>\n      <td>57682</td>\n      <td>30.9756</td>\n      <td>112.2707</td>\n    </tr>\n    <tr>\n      <th>1</th>\n      <td>NaN</td>\n      <td>Italy</td>\n      <td>2020-03-19 17:43:03</td>\n      <td>41035</td>\n      <td>3405</td>\n      <td>4440</td>\n      <td>41.8719</td>\n      <td>12.5674</td>\n    </tr>\n    <tr>\n      <th>15</th>\n      <td>Guangdong</td>\n      <td>China</td>\n      <td>2020-03-19 01:13:06</td>\n      <td>1378</td>\n      <td>8</td>\n      <td>1318</td>\n      <td>23.3417</td>\n      <td>113.4244</td>\n    </tr>\n    <tr>\n      <th>17</th>\n      <td>Henan</td>\n      <td>China</td>\n      <td>2020-03-14 09:53:08</td>\n      <td>1273</td>\n      <td>22</td>\n      <td>1250</td>\n      <td>33.8820</td>\n      <td>113.6140</td>\n    </tr>\n    <tr>\n      <th>18</th>\n      <td>Zhejiang</td>\n      <td>China</td>\n      <td>2020-03-19 10:13:14</td>\n      <td>1233</td>\n      <td>1</td>\n      <td>1217</td>\n      <td>29.1832</td>\n      <td>120.0934</td>\n    </tr>\n    <tr>\n      <th>20</th>\n      <td>Hunan</td>\n      <td>China</td>\n      <td>2020-03-14 08:33:03</td>\n      <td>1018</td>\n      <td>4</td>\n      <td>1014</td>\n      <td>27.6104</td>\n      <td>111.7088</td>\n    </tr>\n    <tr>\n      <th>21</th>\n      <td>Anhui</td>\n      <td>China</td>\n      <td>2020-03-11 02:18:14</td>\n      <td>990</td>\n      <td>6</td>\n      <td>984</td>\n      <td>31.8257</td>\n      <td>117.2264</td>\n    </tr>\n    <tr>\n      <th>23</th>\n      <td>Jiangxi</td>\n      <td>China</td>\n      <td>2020-03-12 02:13:04</td>\n      <td>935</td>\n      <td>1</td>\n      <td>934</td>\n      <td>27.6140</td>\n      <td>115.7221</td>\n    </tr>\n    <tr>\n      <th>27</th>\n      <td>Shandong</td>\n      <td>China</td>\n      <td>2020-03-19 01:02:56</td>\n      <td>761</td>\n      <td>7</td>\n      <td>747</td>\n      <td>36.3427</td>\n      <td>118.1498</td>\n    </tr>\n    <tr>\n      <th>32</th>\n      <td>Jiangsu</td>\n      <td>China</td>\n      <td>2020-03-15 01:53:02</td>\n      <td>631</td>\n      <td>0</td>\n      <td>631</td>\n      <td>32.9711</td>\n      <td>119.4550</td>\n    </tr>\n    <tr>\n      <th>34</th>\n      <td>Chongqing</td>\n      <td>China</td>\n      <td>2020-03-15 03:53:04</td>\n      <td>576</td>\n      <td>6</td>\n      <td>570</td>\n      <td>30.0572</td>\n      <td>107.8740</td>\n    </tr>\n    <tr>\n      <th>36</th>\n      <td>Sichuan</td>\n      <td>China</td>\n      <td>2020-03-19 10:13:14</td>\n      <td>540</td>\n      <td>3</td>\n      <td>536</td>\n      <td>30.6171</td>\n      <td>102.7103</td>\n    </tr>\n    <tr>\n      <th>37</th>\n      <td>Heilongjiang</td>\n      <td>China</td>\n      <td>2020-03-19 01:02:56</td>\n      <td>483</td>\n      <td>13</td>\n      <td>460</td>\n      <td>47.8620</td>\n      <td>127.7615</td>\n    </tr>\n    <tr>\n      <th>38</th>\n      <td>Beijing</td>\n      <td>China</td>\n      <td>2020-03-19 05:13:10</td>\n      <td>480</td>\n      <td>8</td>\n      <td>380</td>\n      <td>40.1824</td>\n      <td>116.4142</td>\n    </tr>\n    <tr>\n      <th>46</th>\n      <td>Shanghai</td>\n      <td>China</td>\n      <td>2020-03-19 01:02:56</td>\n      <td>363</td>\n      <td>3</td>\n      <td>326</td>\n      <td>31.2020</td>\n      <td>121.4491</td>\n    </tr>\n    <tr>\n      <th>53</th>\n      <td>Hebei</td>\n      <td>China</td>\n      <td>2020-03-13 11:09:03</td>\n      <td>318</td>\n      <td>6</td>\n      <td>310</td>\n      <td>38.0428</td>\n      <td>114.5149</td>\n    </tr>\n    <tr>\n      <th>56</th>\n      <td>Fujian</td>\n      <td>China</td>\n      <td>2020-03-11 02:18:14</td>\n      <td>296</td>\n      <td>1</td>\n      <td>295</td>\n      <td>26.0789</td>\n      <td>117.9874</td>\n    </tr>\n    <tr>\n      <th>68</th>\n      <td>Guangxi</td>\n      <td>China</td>\n      <td>2020-03-18 00:33:02</td>\n      <td>253</td>\n      <td>2</td>\n      <td>250</td>\n      <td>23.8298</td>\n      <td>108.7881</td>\n    </tr>\n    <tr>\n      <th>69</th>\n      <td>Shaanxi</td>\n      <td>China</td>\n      <td>2020-03-18 03:53:02</td>\n      <td>246</td>\n      <td>3</td>\n      <td>237</td>\n      <td>35.1917</td>\n      <td>108.8701</td>\n    </tr>\n    <tr>\n      <th>74</th>\n      <td>Hong Kong</td>\n      <td>China</td>\n      <td>2020-03-19 09:53:20</td>\n      <td>208</td>\n      <td>4</td>\n      <td>95</td>\n      <td>22.3000</td>\n      <td>114.2000</td>\n    </tr>\n    <tr>\n      <th>81</th>\n      <td>Yunnan</td>\n      <td>China</td>\n      <td>2020-03-16 23:53:02</td>\n      <td>176</td>\n      <td>2</td>\n      <td>172</td>\n      <td>24.9740</td>\n      <td>101.4870</td>\n    </tr>\n    <tr>\n      <th>82</th>\n      <td>Hainan</td>\n      <td>China</td>\n      <td>2020-03-16 14:38:45</td>\n      <td>168</td>\n      <td>6</td>\n      <td>161</td>\n      <td>19.1959</td>\n      <td>109.7453</td>\n    </tr>\n    <tr>\n      <th>89</th>\n      <td>Guizhou</td>\n      <td>China</td>\n      <td>2020-03-18 01:53:03</td>\n      <td>146</td>\n      <td>2</td>\n      <td>144</td>\n      <td>26.8154</td>\n      <td>106.8748</td>\n    </tr>\n    <tr>\n      <th>92</th>\n      <td>Tianjin</td>\n      <td>China</td>\n      <td>2020-03-19 23:43:03</td>\n      <td>137</td>\n      <td>3</td>\n      <td>133</td>\n      <td>39.3054</td>\n      <td>117.3230</td>\n    </tr>\n    <tr>\n      <th>93</th>\n      <td>Gansu</td>\n      <td>China</td>\n      <td>2020-03-19 14:33:08</td>\n      <td>134</td>\n      <td>2</td>\n      <td>91</td>\n      <td>36.0611</td>\n      <td>103.8343</td>\n    </tr>\n    <tr>\n      <th>94</th>\n      <td>Shanxi</td>\n      <td>China</td>\n      <td>2020-03-13 11:09:03</td>\n      <td>133</td>\n      <td>0</td>\n      <td>133</td>\n      <td>37.5777</td>\n      <td>112.2922</td>\n    </tr>\n    <tr>\n      <th>95</th>\n      <td>Liaoning</td>\n      <td>China</td>\n      <td>2020-03-18 02:13:06</td>\n      <td>125</td>\n      <td>1</td>\n      <td>122</td>\n      <td>41.2956</td>\n      <td>122.6085</td>\n    </tr>\n    <tr>\n      <th>115</th>\n      <td>Jilin</td>\n      <td>China</td>\n      <td>2020-03-16 00:22:10</td>\n      <td>93</td>\n      <td>1</td>\n      <td>92</td>\n      <td>43.6661</td>\n      <td>126.1923</td>\n    </tr>\n    <tr>\n      <th>125</th>\n      <td>Xinjiang</td>\n      <td>China</td>\n      <td>2020-03-11 02:18:14</td>\n      <td>76</td>\n      <td>3</td>\n      <td>73</td>\n      <td>41.1129</td>\n      <td>85.2401</td>\n    </tr>\n    <tr>\n      <th>127</th>\n      <td>Inner Mongolia</td>\n      <td>China</td>\n      <td>2020-03-19 01:03:02</td>\n      <td>75</td>\n      <td>1</td>\n      <td>74</td>\n      <td>44.0935</td>\n      <td>113.9448</td>\n    </tr>\n    <tr>\n      <th>128</th>\n      <td>Ningxia</td>\n      <td>China</td>\n      <td>2020-03-16 14:38:45</td>\n      <td>75</td>\n      <td>0</td>\n      <td>75</td>\n      <td>37.2692</td>\n      <td>106.1655</td>\n    </tr>\n    <tr>\n      <th>181</th>\n      <td>Qinghai</td>\n      <td>China</td>\n      <td>2020-03-11 02:18:14</td>\n      <td>18</td>\n      <td>0</td>\n      <td>18</td>\n      <td>35.7452</td>\n      <td>95.9956</td>\n    </tr>\n    <tr>\n      <th>186</th>\n      <td>Macau</td>\n      <td>China</td>\n      <td>2020-03-19 01:02:56</td>\n      <td>17</td>\n      <td>0</td>\n      <td>10</td>\n      <td>22.1667</td>\n      <td>113.5500</td>\n    </tr>\n    <tr>\n      <th>262</th>\n      <td>Tibet</td>\n      <td>China</td>\n      <td>2020-03-11 02:18:14</td>\n      <td>1</td>\n      <td>0</td>\n      <td>1</td>\n      <td>31.6927</td>\n      <td>88.0924</td>\n    </tr>\n  </tbody>\n</table>\n</div>"
     },
     "metadata": {},
     "execution_count": 7
    }
   ],
   "source": [
    "df[(df['Country/Region'] == 'Italy') | (df['Country/Region'] == 'China')]"
   ]
  },
  {
   "cell_type": "markdown",
   "execution_count": null,
   "metadata": {},
   "outputs": [],
   "source": [
    "Ow, but there are also regional numbers in for China. We have to group those"
   ]
  },
  {
   "cell_type": "code",
   "execution_count": 8,
   "metadata": {},
   "outputs": [
    {
     "output_type": "execute_result",
     "data": {
      "text/plain": "                Confirmed  Deaths  Recovered   Latitude  Longitude\nCountry/Region                                                    \nItaly               41035    3405       4440    41.8719    12.5674\nChina               81156    3249      70535  1080.0817  3685.5800\nIran                18407    1284       5710    32.4279    53.6880\nSpain               17963     830       1107    40.4637    -3.7492\nFrance              10886     243         12    29.8862  -121.6564\n...                   ...     ...        ...        ...        ...\nGeorgia                40       0          1    42.3154    43.3569\nGambia, The             1       0          0    13.4432   -15.3101\nGabon                   1       0          0    -0.8037    11.6094\nFrench Guiana          11       0          0     3.9339   -53.1258\nZambia                  2       0          0   -13.1339    27.8493\n\n[168 rows x 5 columns]",
      "text/html": "<div>\n<style scoped>\n    .dataframe tbody tr th:only-of-type {\n        vertical-align: middle;\n    }\n\n    .dataframe tbody tr th {\n        vertical-align: top;\n    }\n\n    .dataframe thead th {\n        text-align: right;\n    }\n</style>\n<table border=\"1\" class=\"dataframe\">\n  <thead>\n    <tr style=\"text-align: right;\">\n      <th></th>\n      <th>Confirmed</th>\n      <th>Deaths</th>\n      <th>Recovered</th>\n      <th>Latitude</th>\n      <th>Longitude</th>\n    </tr>\n    <tr>\n      <th>Country/Region</th>\n      <th></th>\n      <th></th>\n      <th></th>\n      <th></th>\n      <th></th>\n    </tr>\n  </thead>\n  <tbody>\n    <tr>\n      <th>Italy</th>\n      <td>41035</td>\n      <td>3405</td>\n      <td>4440</td>\n      <td>41.8719</td>\n      <td>12.5674</td>\n    </tr>\n    <tr>\n      <th>China</th>\n      <td>81156</td>\n      <td>3249</td>\n      <td>70535</td>\n      <td>1080.0817</td>\n      <td>3685.5800</td>\n    </tr>\n    <tr>\n      <th>Iran</th>\n      <td>18407</td>\n      <td>1284</td>\n      <td>5710</td>\n      <td>32.4279</td>\n      <td>53.6880</td>\n    </tr>\n    <tr>\n      <th>Spain</th>\n      <td>17963</td>\n      <td>830</td>\n      <td>1107</td>\n      <td>40.4637</td>\n      <td>-3.7492</td>\n    </tr>\n    <tr>\n      <th>France</th>\n      <td>10886</td>\n      <td>243</td>\n      <td>12</td>\n      <td>29.8862</td>\n      <td>-121.6564</td>\n    </tr>\n    <tr>\n      <th>...</th>\n      <td>...</td>\n      <td>...</td>\n      <td>...</td>\n      <td>...</td>\n      <td>...</td>\n    </tr>\n    <tr>\n      <th>Georgia</th>\n      <td>40</td>\n      <td>0</td>\n      <td>1</td>\n      <td>42.3154</td>\n      <td>43.3569</td>\n    </tr>\n    <tr>\n      <th>Gambia, The</th>\n      <td>1</td>\n      <td>0</td>\n      <td>0</td>\n      <td>13.4432</td>\n      <td>-15.3101</td>\n    </tr>\n    <tr>\n      <th>Gabon</th>\n      <td>1</td>\n      <td>0</td>\n      <td>0</td>\n      <td>-0.8037</td>\n      <td>11.6094</td>\n    </tr>\n    <tr>\n      <th>French Guiana</th>\n      <td>11</td>\n      <td>0</td>\n      <td>0</td>\n      <td>3.9339</td>\n      <td>-53.1258</td>\n    </tr>\n    <tr>\n      <th>Zambia</th>\n      <td>2</td>\n      <td>0</td>\n      <td>0</td>\n      <td>-13.1339</td>\n      <td>27.8493</td>\n    </tr>\n  </tbody>\n</table>\n<p>168 rows × 5 columns</p>\n</div>"
     },
     "metadata": {},
     "execution_count": 8
    }
   ],
   "source": [
    "# Exercise: find the function to group by \n",
    "df.groupby('Country/Region').sum().sort_values('Deaths', ascending=False)"
   ]
  },
  {
   "cell_type": "markdown",
   "execution_count": null,
   "metadata": {},
   "outputs": [],
   "source": [
    "This Country and Region has the most deaths:"
   ]
  },
  {
   "cell_type": "code",
   "execution_count": 9,
   "metadata": {},
   "outputs": [
    {
     "output_type": "execute_result",
     "data": {
      "text/plain": "  Province/State Country/Region         Last Update  Confirmed  Deaths  \\\n1            NaN          Italy 2020-03-19 17:43:03      41035    3405   \n\n   Recovered  Latitude  Longitude  \n1       4440   41.8719    12.5674  ",
      "text/html": "<div>\n<style scoped>\n    .dataframe tbody tr th:only-of-type {\n        vertical-align: middle;\n    }\n\n    .dataframe tbody tr th {\n        vertical-align: top;\n    }\n\n    .dataframe thead th {\n        text-align: right;\n    }\n</style>\n<table border=\"1\" class=\"dataframe\">\n  <thead>\n    <tr style=\"text-align: right;\">\n      <th></th>\n      <th>Province/State</th>\n      <th>Country/Region</th>\n      <th>Last Update</th>\n      <th>Confirmed</th>\n      <th>Deaths</th>\n      <th>Recovered</th>\n      <th>Latitude</th>\n      <th>Longitude</th>\n    </tr>\n  </thead>\n  <tbody>\n    <tr>\n      <th>1</th>\n      <td>NaN</td>\n      <td>Italy</td>\n      <td>2020-03-19 17:43:03</td>\n      <td>41035</td>\n      <td>3405</td>\n      <td>4440</td>\n      <td>41.8719</td>\n      <td>12.5674</td>\n    </tr>\n  </tbody>\n</table>\n</div>"
     },
     "metadata": {},
     "execution_count": 9
    }
   ],
   "source": [
    "df[df['Deaths'] == df['Deaths'].max()]"
   ]
  },
  {
   "cell_type": "markdown",
   "execution_count": null,
   "metadata": {},
   "outputs": [],
   "source": [
    "Now try to answer: Where am I still safe?"
   ]
  },
  {
   "cell_type": "code",
   "execution_count": 10,
   "metadata": {},
   "outputs": [
    {
     "output_type": "execute_result",
     "data": {
      "text/plain": "            Province/State         Country/Region         Last Update  \\\n279  From Diamond Princess              Australia 2020-03-14 02:33:04   \n280          French Guiana                 France 2020-03-18 14:33:15   \n281             Guadeloupe                 France 2020-03-18 14:33:15   \n282                Mayotte                 France 2020-03-18 14:33:15   \n283                Reunion                 France 2020-03-18 14:33:15   \n284                    NaN              Greenland 2020-03-19 09:33:04   \n285                    NaN                   Guam 2020-03-18 19:14:33   \n286                    NaN               Guernsey 2020-03-17 18:33:03   \n287                    NaN                 Jersey 2020-03-17 18:33:03   \n288                    NaN            Puerto Rico 2020-03-17 16:13:14   \n289                    NaN  Republic of the Congo 2020-03-17 21:33:03   \n290                    NaN            The Bahamas 2020-03-19 12:13:38   \n291                    NaN             The Gambia 2020-03-18 14:13:56   \n\n     Confirmed  Deaths  Recovered  Latitude  Longitude  \n279          0       0          0   35.4437   139.6380  \n280          0       0          0    4.0000   -53.0000  \n281          0       0          0   16.2500   -61.5833  \n282          0       0          0  -12.8431    45.1383  \n283          0       0          0  -21.1351    55.2471  \n284          0       0          0   72.0000   -40.0000  \n285          0       0          0   13.4443   144.7937  \n286          0       0          0   49.4500    -2.5800  \n287          0       0          0   49.1900    -2.1100  \n288          0       0          0   18.2000   -66.5000  \n289          0       0          0   -1.4400    15.5560  \n290          0       0          0   24.2500   -76.0000  \n291          0       0          0   13.4667   -16.6000  ",
      "text/html": "<div>\n<style scoped>\n    .dataframe tbody tr th:only-of-type {\n        vertical-align: middle;\n    }\n\n    .dataframe tbody tr th {\n        vertical-align: top;\n    }\n\n    .dataframe thead th {\n        text-align: right;\n    }\n</style>\n<table border=\"1\" class=\"dataframe\">\n  <thead>\n    <tr style=\"text-align: right;\">\n      <th></th>\n      <th>Province/State</th>\n      <th>Country/Region</th>\n      <th>Last Update</th>\n      <th>Confirmed</th>\n      <th>Deaths</th>\n      <th>Recovered</th>\n      <th>Latitude</th>\n      <th>Longitude</th>\n    </tr>\n  </thead>\n  <tbody>\n    <tr>\n      <th>279</th>\n      <td>From Diamond Princess</td>\n      <td>Australia</td>\n      <td>2020-03-14 02:33:04</td>\n      <td>0</td>\n      <td>0</td>\n      <td>0</td>\n      <td>35.4437</td>\n      <td>139.6380</td>\n    </tr>\n    <tr>\n      <th>280</th>\n      <td>French Guiana</td>\n      <td>France</td>\n      <td>2020-03-18 14:33:15</td>\n      <td>0</td>\n      <td>0</td>\n      <td>0</td>\n      <td>4.0000</td>\n      <td>-53.0000</td>\n    </tr>\n    <tr>\n      <th>281</th>\n      <td>Guadeloupe</td>\n      <td>France</td>\n      <td>2020-03-18 14:33:15</td>\n      <td>0</td>\n      <td>0</td>\n      <td>0</td>\n      <td>16.2500</td>\n      <td>-61.5833</td>\n    </tr>\n    <tr>\n      <th>282</th>\n      <td>Mayotte</td>\n      <td>France</td>\n      <td>2020-03-18 14:33:15</td>\n      <td>0</td>\n      <td>0</td>\n      <td>0</td>\n      <td>-12.8431</td>\n      <td>45.1383</td>\n    </tr>\n    <tr>\n      <th>283</th>\n      <td>Reunion</td>\n      <td>France</td>\n      <td>2020-03-18 14:33:15</td>\n      <td>0</td>\n      <td>0</td>\n      <td>0</td>\n      <td>-21.1351</td>\n      <td>55.2471</td>\n    </tr>\n    <tr>\n      <th>284</th>\n      <td>NaN</td>\n      <td>Greenland</td>\n      <td>2020-03-19 09:33:04</td>\n      <td>0</td>\n      <td>0</td>\n      <td>0</td>\n      <td>72.0000</td>\n      <td>-40.0000</td>\n    </tr>\n    <tr>\n      <th>285</th>\n      <td>NaN</td>\n      <td>Guam</td>\n      <td>2020-03-18 19:14:33</td>\n      <td>0</td>\n      <td>0</td>\n      <td>0</td>\n      <td>13.4443</td>\n      <td>144.7937</td>\n    </tr>\n    <tr>\n      <th>286</th>\n      <td>NaN</td>\n      <td>Guernsey</td>\n      <td>2020-03-17 18:33:03</td>\n      <td>0</td>\n      <td>0</td>\n      <td>0</td>\n      <td>49.4500</td>\n      <td>-2.5800</td>\n    </tr>\n    <tr>\n      <th>287</th>\n      <td>NaN</td>\n      <td>Jersey</td>\n      <td>2020-03-17 18:33:03</td>\n      <td>0</td>\n      <td>0</td>\n      <td>0</td>\n      <td>49.1900</td>\n      <td>-2.1100</td>\n    </tr>\n    <tr>\n      <th>288</th>\n      <td>NaN</td>\n      <td>Puerto Rico</td>\n      <td>2020-03-17 16:13:14</td>\n      <td>0</td>\n      <td>0</td>\n      <td>0</td>\n      <td>18.2000</td>\n      <td>-66.5000</td>\n    </tr>\n    <tr>\n      <th>289</th>\n      <td>NaN</td>\n      <td>Republic of the Congo</td>\n      <td>2020-03-17 21:33:03</td>\n      <td>0</td>\n      <td>0</td>\n      <td>0</td>\n      <td>-1.4400</td>\n      <td>15.5560</td>\n    </tr>\n    <tr>\n      <th>290</th>\n      <td>NaN</td>\n      <td>The Bahamas</td>\n      <td>2020-03-19 12:13:38</td>\n      <td>0</td>\n      <td>0</td>\n      <td>0</td>\n      <td>24.2500</td>\n      <td>-76.0000</td>\n    </tr>\n    <tr>\n      <th>291</th>\n      <td>NaN</td>\n      <td>The Gambia</td>\n      <td>2020-03-18 14:13:56</td>\n      <td>0</td>\n      <td>0</td>\n      <td>0</td>\n      <td>13.4667</td>\n      <td>-16.6000</td>\n    </tr>\n  </tbody>\n</table>\n</div>"
     },
     "metadata": {},
     "execution_count": 10
    }
   ],
   "source": [
    "#Exercise: fill in on the dots\n",
    "df[df['Confirmed'] == df['Confirmed'].min()]\n",
    "#this is not per se safe of course, but at least not close to confirmed cases, assuming everywhere tests are being performed, etc. etc. "
   ]
  }
 ]
}