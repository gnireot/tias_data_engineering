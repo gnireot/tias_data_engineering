{
  "nbformat": 4,
  "nbformat_minor": 0,
  "metadata": {
    "colab": {
      "name": "Untitled0.ipynb",
      "provenance": [],
      "collapsed_sections": []
    },
    "kernelspec": {
      "name": "python3",
      "display_name": "Python 3"
    },
    "language_info": {
      "name": "python"
    }
  },
  "cells": [
    {
      "cell_type": "code",
      "metadata": {
        "id": "ocI6IhCTj8cg"
      },
      "source": [
        "import matplotlib.pyplot as plt\n",
        "import numpy as np"
      ],
      "execution_count": null,
      "outputs": []
    },
    {
      "cell_type": "code",
      "metadata": {
        "colab": {
          "base_uri": "https://localhost:8080/",
          "height": 485
        },
        "id": "kJiNtE_Tj7hR",
        "outputId": "91105cfb-f822-4e8d-eb88-9e3c15f8377c"
      },
      "source": [
        "fig = plt.figure(figsize=(8,8))\n",
        "ax = fig.add_subplot(1,1,1, aspect=1)\n",
        "\n",
        "ax.scatter([.5],[.5], c='#FFCC00', s=120000, label=\"face\")\n",
        "ax.scatter([.35, .65], [.63, .63], c='k', s=1000, label=\"eyes\")\n",
        "\n",
        "X = np.linspace(.3, .7, 100)\n",
        "Y = 2* (X-.5)**2 + 0.30\n",
        "\n",
        "ax.plot(X, Y, c='k', linewidth=8, label=\"smile\")\n",
        "\n",
        "ax.set_xlim(0,1)\n",
        "ax.set_ylim(0,1)\n",
        "\n",
        "ax.spines['top'].set_visible(False)\n",
        "ax.spines['right'].set_visible(False)\n",
        "ax.spines['left'].set_visible(False)\n",
        "ax.spines['bottom'].set_visible(False)\n",
        "ax.set_xticks([])\n",
        "ax.set_yticks([])"
      ],
      "execution_count": null,
      "outputs": []
    },
    {
      "cell_type": "code",
      "metadata": {
        "id": "GJ7p2QEukBqO"
      },
      "source": [],
      "execution_count": null,
      "outputs": []
    }
  ]
}