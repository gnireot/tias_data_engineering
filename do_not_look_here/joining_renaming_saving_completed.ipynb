{
 "nbformat": 4,
 "nbformat_minor": 2,
 "metadata": {
  "language_info": {
   "name": "python",
   "codemirror_mode": {
    "name": "ipython",
    "version": 3
   },
   "version": "3.8.0-final"
  },
  "orig_nbformat": 2,
  "file_extension": ".py",
  "mimetype": "text/x-python",
  "name": "python",
  "npconvert_exporter": "python",
  "pygments_lexer": "ipython3",
  "version": 3,
  "kernelspec": {
   "name": "python38064bitcondac61baea020db4b8dba48eddc6323b089",
   "display_name": "Python 3.8.0 64-bit (conda)"
  }
 },
 "cells": [
  {
   "cell_type": "markdown",
   "execution_count": null,
   "metadata": {},
   "outputs": [],
   "source": [
    "## Tias Data Engineering\n",
    "Exercise 6: More filtering and Selecting"
   ]
  },
  {
   "cell_type": "code",
   "execution_count": 1,
   "metadata": {},
   "outputs": [],
   "source": [
    "#importing the pandas library\n",
    "import pandas as pd\n",
    "import matplotlib.pyplot as plt"
   ]
  },
  {
   "cell_type": "code",
   "execution_count": 2,
   "metadata": {},
   "outputs": [],
   "source": [
    "corona_data_url = \"https://raw.githubusercontent.com/CSSEGISandData/COVID-19/master/csse_covid_19_data/csse_covid_19_daily_reports/03-26-2020.csv\"\n",
    "df = pd.read_csv(corona_data_url)\n",
    "df['Last_Update'] = pd.to_datetime(df['Last_Update'])"
   ]
  },
  {
   "cell_type": "code",
   "execution_count": 3,
   "metadata": {},
   "outputs": [],
   "source": [
    "worldbank_data = \"https://raw.githubusercontent.com/gnireot/tias_data_engineering/master/worldbank_data.csv\"\n",
    "df_wb = pd.read_csv(worldbank_data)\n",
    "df_wb['Population'] = pd.to_numeric(df_wb['Population'], errors='coerce')"
   ]
  },
  {
   "cell_type": "code",
   "execution_count": 4,
   "metadata": {},
   "outputs": [
    {
     "output_type": "stream",
     "name": "stdout",
     "text": "<class 'pandas.core.frame.DataFrame'>\nRangeIndex: 3421 entries, 0 to 3420\nData columns (total 12 columns):\n #   Column          Non-Null Count  Dtype         \n---  ------          --------------  -----         \n 0   FIPS            3149 non-null   float64       \n 1   Admin2          3166 non-null   object        \n 2   Province_State  3250 non-null   object        \n 3   Country_Region  3421 non-null   object        \n 4   Last_Update     3421 non-null   datetime64[ns]\n 5   Lat             3421 non-null   float64       \n 6   Long_           3421 non-null   float64       \n 7   Confirmed       3421 non-null   int64         \n 8   Deaths          3421 non-null   int64         \n 9   Recovered       3421 non-null   int64         \n 10  Active          3421 non-null   int64         \n 11  Combined_Key    3421 non-null   object        \ndtypes: datetime64[ns](1), float64(3), int64(4), object(4)\nmemory usage: 320.8+ KB\n"
    }
   ],
   "source": [
    "#selecting one column:\n",
    "df.info()"
   ]
  },
  {
   "cell_type": "code",
   "execution_count": 5,
   "metadata": {},
   "outputs": [
    {
     "output_type": "stream",
     "name": "stdout",
     "text": "<class 'pandas.core.frame.DataFrame'>\nRangeIndex: 217 entries, 0 to 216\nData columns (total 5 columns):\n #   Column        Non-Null Count  Dtype  \n---  ------        --------------  -----  \n 0   Series Name   217 non-null    object \n 1   Series Code   217 non-null    object \n 2   Country Name  217 non-null    object \n 3   Country Code  217 non-null    object \n 4   Population    216 non-null    float64\ndtypes: float64(1), object(4)\nmemory usage: 8.6+ KB\n"
    }
   ],
   "source": [
    "df_wb.info()"
   ]
  },
  {
   "cell_type": "markdown",
   "execution_count": null,
   "metadata": {},
   "outputs": [],
   "source": [
    "### Joining renaming and saving\n",
    "\n"
   ]
  },
  {
   "cell_type": "code",
   "execution_count": 8,
   "metadata": {},
   "outputs": [
    {
     "output_type": "execute_result",
     "data": {
      "text/plain": "      FIPS     Admin2  Province_State Country_Region         Last_Update  \\\n0  45001.0  Abbeville  South Carolina             US 2020-03-26 23:48:35   \n1  22001.0     Acadia       Louisiana             US 2020-03-26 23:48:35   \n2  51001.0   Accomack        Virginia             US 2020-03-26 23:48:35   \n3  16001.0        Ada           Idaho             US 2020-03-26 23:48:35   \n4  19001.0      Adair            Iowa             US 2020-03-26 23:48:35   \n5  21001.0      Adair        Kentucky             US 2020-03-26 23:48:35   \n6  29001.0      Adair        Missouri             US 2020-03-26 23:48:35   \n7  40001.0      Adair        Oklahoma             US 2020-03-26 23:48:35   \n8   8001.0      Adams        Colorado             US 2020-03-26 23:48:35   \n9  16003.0      Adams           Idaho             US 2020-03-26 23:48:35   \n\n         Lat       Long_  Confirmed  Deaths  Recovered  Active  \\\n0  34.223334  -82.461707          3       0          0       0   \n1  30.295065  -92.414197          3       0          0       0   \n2  37.767072  -75.632346          2       0          0       0   \n3  43.452658 -116.241552         39       0          0       0   \n4  41.330756  -94.471059          1       0          0       0   \n5  37.104598  -85.281297          0       0          0       0   \n6  40.190586  -92.600782          1       0          0       0   \n7  35.884942  -94.658593          2       0          0       0   \n8  39.874321 -104.336258         50       0          0       0   \n9  44.893336 -116.454525          0       0          0       0   \n\n                    Combined_Key  \n0  Abbeville, South Carolina, US  \n1          Acadia, Louisiana, US  \n2         Accomack, Virginia, US  \n3                 Ada, Idaho, US  \n4                Adair, Iowa, US  \n5            Adair, Kentucky, US  \n6            Adair, Missouri, US  \n7            Adair, Oklahoma, US  \n8            Adams, Colorado, US  \n9               Adams, Idaho, US  ",
      "text/html": "<div>\n<style scoped>\n    .dataframe tbody tr th:only-of-type {\n        vertical-align: middle;\n    }\n\n    .dataframe tbody tr th {\n        vertical-align: top;\n    }\n\n    .dataframe thead th {\n        text-align: right;\n    }\n</style>\n<table border=\"1\" class=\"dataframe\">\n  <thead>\n    <tr style=\"text-align: right;\">\n      <th></th>\n      <th>FIPS</th>\n      <th>Admin2</th>\n      <th>Province_State</th>\n      <th>Country_Region</th>\n      <th>Last_Update</th>\n      <th>Lat</th>\n      <th>Long_</th>\n      <th>Confirmed</th>\n      <th>Deaths</th>\n      <th>Recovered</th>\n      <th>Active</th>\n      <th>Combined_Key</th>\n    </tr>\n  </thead>\n  <tbody>\n    <tr>\n      <th>0</th>\n      <td>45001.0</td>\n      <td>Abbeville</td>\n      <td>South Carolina</td>\n      <td>US</td>\n      <td>2020-03-26 23:48:35</td>\n      <td>34.223334</td>\n      <td>-82.461707</td>\n      <td>3</td>\n      <td>0</td>\n      <td>0</td>\n      <td>0</td>\n      <td>Abbeville, South Carolina, US</td>\n    </tr>\n    <tr>\n      <th>1</th>\n      <td>22001.0</td>\n      <td>Acadia</td>\n      <td>Louisiana</td>\n      <td>US</td>\n      <td>2020-03-26 23:48:35</td>\n      <td>30.295065</td>\n      <td>-92.414197</td>\n      <td>3</td>\n      <td>0</td>\n      <td>0</td>\n      <td>0</td>\n      <td>Acadia, Louisiana, US</td>\n    </tr>\n    <tr>\n      <th>2</th>\n      <td>51001.0</td>\n      <td>Accomack</td>\n      <td>Virginia</td>\n      <td>US</td>\n      <td>2020-03-26 23:48:35</td>\n      <td>37.767072</td>\n      <td>-75.632346</td>\n      <td>2</td>\n      <td>0</td>\n      <td>0</td>\n      <td>0</td>\n      <td>Accomack, Virginia, US</td>\n    </tr>\n    <tr>\n      <th>3</th>\n      <td>16001.0</td>\n      <td>Ada</td>\n      <td>Idaho</td>\n      <td>US</td>\n      <td>2020-03-26 23:48:35</td>\n      <td>43.452658</td>\n      <td>-116.241552</td>\n      <td>39</td>\n      <td>0</td>\n      <td>0</td>\n      <td>0</td>\n      <td>Ada, Idaho, US</td>\n    </tr>\n    <tr>\n      <th>4</th>\n      <td>19001.0</td>\n      <td>Adair</td>\n      <td>Iowa</td>\n      <td>US</td>\n      <td>2020-03-26 23:48:35</td>\n      <td>41.330756</td>\n      <td>-94.471059</td>\n      <td>1</td>\n      <td>0</td>\n      <td>0</td>\n      <td>0</td>\n      <td>Adair, Iowa, US</td>\n    </tr>\n    <tr>\n      <th>5</th>\n      <td>21001.0</td>\n      <td>Adair</td>\n      <td>Kentucky</td>\n      <td>US</td>\n      <td>2020-03-26 23:48:35</td>\n      <td>37.104598</td>\n      <td>-85.281297</td>\n      <td>0</td>\n      <td>0</td>\n      <td>0</td>\n      <td>0</td>\n      <td>Adair, Kentucky, US</td>\n    </tr>\n    <tr>\n      <th>6</th>\n      <td>29001.0</td>\n      <td>Adair</td>\n      <td>Missouri</td>\n      <td>US</td>\n      <td>2020-03-26 23:48:35</td>\n      <td>40.190586</td>\n      <td>-92.600782</td>\n      <td>1</td>\n      <td>0</td>\n      <td>0</td>\n      <td>0</td>\n      <td>Adair, Missouri, US</td>\n    </tr>\n    <tr>\n      <th>7</th>\n      <td>40001.0</td>\n      <td>Adair</td>\n      <td>Oklahoma</td>\n      <td>US</td>\n      <td>2020-03-26 23:48:35</td>\n      <td>35.884942</td>\n      <td>-94.658593</td>\n      <td>2</td>\n      <td>0</td>\n      <td>0</td>\n      <td>0</td>\n      <td>Adair, Oklahoma, US</td>\n    </tr>\n    <tr>\n      <th>8</th>\n      <td>8001.0</td>\n      <td>Adams</td>\n      <td>Colorado</td>\n      <td>US</td>\n      <td>2020-03-26 23:48:35</td>\n      <td>39.874321</td>\n      <td>-104.336258</td>\n      <td>50</td>\n      <td>0</td>\n      <td>0</td>\n      <td>0</td>\n      <td>Adams, Colorado, US</td>\n    </tr>\n    <tr>\n      <th>9</th>\n      <td>16003.0</td>\n      <td>Adams</td>\n      <td>Idaho</td>\n      <td>US</td>\n      <td>2020-03-26 23:48:35</td>\n      <td>44.893336</td>\n      <td>-116.454525</td>\n      <td>0</td>\n      <td>0</td>\n      <td>0</td>\n      <td>0</td>\n      <td>Adams, Idaho, US</td>\n    </tr>\n  </tbody>\n</table>\n</div>"
     },
     "metadata": {},
     "execution_count": 8
    }
   ],
   "source": [
    "#first look at the first 10 rows of both df & df_wb dataset\n",
    "df.head(10)\n",
    ""
   ]
  },
  {
   "cell_type": "code",
   "execution_count": 9,
   "metadata": {},
   "outputs": [
    {
     "output_type": "execute_result",
     "data": {
      "text/plain": "         Series Name  Series Code         Country Name Country Code  \\\n0  Population, total  SP.POP.TOTL          Afghanistan          AFG   \n1  Population, total  SP.POP.TOTL              Albania          ALB   \n2  Population, total  SP.POP.TOTL              Algeria          DZA   \n3  Population, total  SP.POP.TOTL       American Samoa          ASM   \n4  Population, total  SP.POP.TOTL              Andorra          AND   \n5  Population, total  SP.POP.TOTL               Angola          AGO   \n6  Population, total  SP.POP.TOTL  Antigua and Barbuda          ATG   \n7  Population, total  SP.POP.TOTL            Argentina          ARG   \n8  Population, total  SP.POP.TOTL              Armenia          ARM   \n9  Population, total  SP.POP.TOTL                Aruba          ABW   \n\n   Population  \n0  37172386.0  \n1   2866376.0  \n2  42228429.0  \n3     55465.0  \n4     77006.0  \n5  30809762.0  \n6     96286.0  \n7  44494502.0  \n8   2951776.0  \n9    105845.0  ",
      "text/html": "<div>\n<style scoped>\n    .dataframe tbody tr th:only-of-type {\n        vertical-align: middle;\n    }\n\n    .dataframe tbody tr th {\n        vertical-align: top;\n    }\n\n    .dataframe thead th {\n        text-align: right;\n    }\n</style>\n<table border=\"1\" class=\"dataframe\">\n  <thead>\n    <tr style=\"text-align: right;\">\n      <th></th>\n      <th>Series Name</th>\n      <th>Series Code</th>\n      <th>Country Name</th>\n      <th>Country Code</th>\n      <th>Population</th>\n    </tr>\n  </thead>\n  <tbody>\n    <tr>\n      <th>0</th>\n      <td>Population, total</td>\n      <td>SP.POP.TOTL</td>\n      <td>Afghanistan</td>\n      <td>AFG</td>\n      <td>37172386.0</td>\n    </tr>\n    <tr>\n      <th>1</th>\n      <td>Population, total</td>\n      <td>SP.POP.TOTL</td>\n      <td>Albania</td>\n      <td>ALB</td>\n      <td>2866376.0</td>\n    </tr>\n    <tr>\n      <th>2</th>\n      <td>Population, total</td>\n      <td>SP.POP.TOTL</td>\n      <td>Algeria</td>\n      <td>DZA</td>\n      <td>42228429.0</td>\n    </tr>\n    <tr>\n      <th>3</th>\n      <td>Population, total</td>\n      <td>SP.POP.TOTL</td>\n      <td>American Samoa</td>\n      <td>ASM</td>\n      <td>55465.0</td>\n    </tr>\n    <tr>\n      <th>4</th>\n      <td>Population, total</td>\n      <td>SP.POP.TOTL</td>\n      <td>Andorra</td>\n      <td>AND</td>\n      <td>77006.0</td>\n    </tr>\n    <tr>\n      <th>5</th>\n      <td>Population, total</td>\n      <td>SP.POP.TOTL</td>\n      <td>Angola</td>\n      <td>AGO</td>\n      <td>30809762.0</td>\n    </tr>\n    <tr>\n      <th>6</th>\n      <td>Population, total</td>\n      <td>SP.POP.TOTL</td>\n      <td>Antigua and Barbuda</td>\n      <td>ATG</td>\n      <td>96286.0</td>\n    </tr>\n    <tr>\n      <th>7</th>\n      <td>Population, total</td>\n      <td>SP.POP.TOTL</td>\n      <td>Argentina</td>\n      <td>ARG</td>\n      <td>44494502.0</td>\n    </tr>\n    <tr>\n      <th>8</th>\n      <td>Population, total</td>\n      <td>SP.POP.TOTL</td>\n      <td>Armenia</td>\n      <td>ARM</td>\n      <td>2951776.0</td>\n    </tr>\n    <tr>\n      <th>9</th>\n      <td>Population, total</td>\n      <td>SP.POP.TOTL</td>\n      <td>Aruba</td>\n      <td>ABW</td>\n      <td>105845.0</td>\n    </tr>\n  </tbody>\n</table>\n</div>"
     },
     "metadata": {},
     "execution_count": 9
    }
   ],
   "source": [
    "df_wb.head(10)"
   ]
  },
  {
   "cell_type": "code",
   "execution_count": 10,
   "metadata": {},
   "outputs": [],
   "source": [
    "#now merge the two datasets:\n",
    "df_merged = df.merge(df_wb, left_on = 'Country_Region', right_on='Country Name', how='left')"
   ]
  },
  {
   "cell_type": "code",
   "execution_count": 11,
   "metadata": {},
   "outputs": [],
   "source": [
    "# filter unmatched countries\n",
    "df_merged = df_merged[df_merged['Population']>0]"
   ]
  },
  {
   "cell_type": "code",
   "execution_count": 12,
   "metadata": {},
   "outputs": [],
   "source": [
    "#add a column: \n",
    "df_merged['bevestigd per 1M inwoners'] =  df_merged['Confirmed'] / (df_merged['Population']/1000000)"
   ]
  },
  {
   "cell_type": "code",
   "execution_count": 13,
   "metadata": {},
   "outputs": [
    {
     "output_type": "execute_result",
     "data": {
      "text/plain": "      FIPS Admin2 Province_State  Country_Region         Last_Update  \\\n3385   NaN    NaN            NaN      San Marino 2020-03-26 23:48:18   \n3253   NaN    NaN            NaN         Andorra 2020-03-26 23:48:18   \n3345   NaN    NaN            NaN      Luxembourg 2020-03-26 23:48:18   \n3321   NaN    NaN            NaN         Iceland 2020-03-26 23:48:18   \n3343   NaN    NaN            NaN   Liechtenstein 2020-03-26 23:48:18   \n3400   NaN    NaN            NaN     Switzerland 2020-03-26 23:48:18   \n3328   NaN    NaN            NaN           Italy 2020-03-26 23:48:18   \n3395   NaN    NaN            NaN           Spain 2020-03-26 23:48:18   \n3355   NaN    NaN            NaN          Monaco 2020-03-26 23:48:18   \n3258   NaN    NaN            NaN         Austria 2020-03-26 23:48:18   \n3368   NaN    NaN            NaN          Norway 2020-03-26 23:48:18   \n3265   NaN    NaN            NaN         Belgium 2020-03-26 23:48:18   \n3309   NaN    NaN            NaN         Germany 2020-03-26 23:48:18   \n3305   NaN    NaN            NaN          France 2020-03-26 23:48:18   \n3362   NaN    NaN            NaN     Netherlands 2020-03-26 23:48:18   \n3300   NaN    NaN            NaN         Estonia 2020-03-26 23:48:18   \n3326   NaN    NaN            NaN         Ireland 2020-03-26 23:48:18   \n3377   NaN    NaN            NaN        Portugal 2020-03-26 23:48:18   \n3290   NaN    NaN            NaN         Denmark 2020-03-26 23:48:18   \n3327   NaN    NaN            NaN          Israel 2020-03-26 23:48:18   \n3261   NaN    NaN            NaN         Bahrain 2020-03-26 23:48:18   \n3399   NaN    NaN            NaN          Sweden 2020-03-26 23:48:18   \n3350   NaN    NaN            NaN           Malta 2020-03-26 23:48:18   \n3392   NaN    NaN            NaN        Slovenia 2020-03-26 23:48:18   \n3378   NaN    NaN            NaN           Qatar 2020-03-26 23:48:18   \n3413   NaN    NaN            NaN  United Kingdom 2020-03-26 23:48:18   \n3304   NaN    NaN            NaN         Finland 2020-03-26 23:48:18   \n3293   NaN    NaN            NaN        Dominica 2020-03-26 23:48:18   \n3371   NaN    NaN            NaN          Panama 2020-03-26 23:48:18   \n3339   NaN    NaN            NaN          Latvia 2020-03-26 23:48:18   \n\n            Lat      Long_  Confirmed  Deaths  Recovered  Active  \\\n3385  43.942400  12.457800        208      21          4     183   \n3253  42.506300   1.521800        224       3          1     220   \n3345  49.815300   6.129600       1453       9          6    1438   \n3321  64.963100 -19.020800        802       2         82     718   \n3343  47.140000   9.550000         56       0          0      56   \n3400  46.818200   8.227500      11811     191        131   11489   \n3328  41.871940  12.567380      80589    8215      10361   62013   \n3395  40.463667  -3.749220      57786    4365       7015   46406   \n3355  43.733300   7.416700         33       0          1      32   \n3258  47.516200  14.550100       6909      49        112    6748   \n3368  60.472000   8.468900       3369      14          6    3349   \n3265  50.833300   4.469936       6235     220        675    5340   \n3309  51.165691  10.451526      43938     267       5673   37998   \n3305  46.227600   2.213700      29155    1696       4948   22511   \n3362  52.132600   5.291300       7431     434          3    6994   \n3300  58.595300  25.013600        538       1          8     529   \n3326  53.142400  -7.692100       1819      19          5    1795   \n3377  39.399900  -8.224500       3544      60         43    3441   \n3290  56.263900   9.501800       1877      41          1    1835   \n3327  31.046051  34.851612       2693       8         68    2617   \n3261  26.027500  50.550000        458       4        204     250   \n3399  60.128161  18.643501       2840      77         16    2747   \n3350  35.937500  14.375400        134       0          2     132   \n3392  46.151200  14.995500        562       6         10     546   \n3378  25.354800  51.183900        549       0         43     506   \n3413  55.378100  -3.436000      11658     578        135   10945   \n3304  61.924110  25.748151        958       5         10     943   \n3293  15.415000 -61.371000         11       0          0      11   \n3371   8.538000 -80.782100        558       8          2     548   \n3339  56.879600  24.603200        244       0          1     243   \n\n        Combined_Key        Series Name  Series Code    Country Name  \\\n3385      San Marino  Population, total  SP.POP.TOTL      San Marino   \n3253         Andorra  Population, total  SP.POP.TOTL         Andorra   \n3345      Luxembourg  Population, total  SP.POP.TOTL      Luxembourg   \n3321         Iceland  Population, total  SP.POP.TOTL         Iceland   \n3343   Liechtenstein  Population, total  SP.POP.TOTL   Liechtenstein   \n3400     Switzerland  Population, total  SP.POP.TOTL     Switzerland   \n3328           Italy  Population, total  SP.POP.TOTL           Italy   \n3395           Spain  Population, total  SP.POP.TOTL           Spain   \n3355          Monaco  Population, total  SP.POP.TOTL          Monaco   \n3258         Austria  Population, total  SP.POP.TOTL         Austria   \n3368          Norway  Population, total  SP.POP.TOTL          Norway   \n3265         Belgium  Population, total  SP.POP.TOTL         Belgium   \n3309         Germany  Population, total  SP.POP.TOTL         Germany   \n3305          France  Population, total  SP.POP.TOTL          France   \n3362     Netherlands  Population, total  SP.POP.TOTL     Netherlands   \n3300         Estonia  Population, total  SP.POP.TOTL         Estonia   \n3326         Ireland  Population, total  SP.POP.TOTL         Ireland   \n3377        Portugal  Population, total  SP.POP.TOTL        Portugal   \n3290         Denmark  Population, total  SP.POP.TOTL         Denmark   \n3327          Israel  Population, total  SP.POP.TOTL          Israel   \n3261         Bahrain  Population, total  SP.POP.TOTL         Bahrain   \n3399          Sweden  Population, total  SP.POP.TOTL          Sweden   \n3350           Malta  Population, total  SP.POP.TOTL           Malta   \n3392        Slovenia  Population, total  SP.POP.TOTL        Slovenia   \n3378           Qatar  Population, total  SP.POP.TOTL           Qatar   \n3413  United Kingdom  Population, total  SP.POP.TOTL  United Kingdom   \n3304         Finland  Population, total  SP.POP.TOTL         Finland   \n3293        Dominica  Population, total  SP.POP.TOTL        Dominica   \n3371          Panama  Population, total  SP.POP.TOTL          Panama   \n3339          Latvia  Population, total  SP.POP.TOTL          Latvia   \n\n     Country Code  Population  bevestigd per 1M inwoners  \n3385          SMR     33785.0                6156.578363  \n3253          AND     77006.0                2908.864244  \n3345          LUX    607728.0                2390.872232  \n3321          ISL    353574.0                2268.266332  \n3343          LIE     37910.0                1477.182801  \n3400          CHE   8516543.0                1386.830314  \n3328          ITA  60431283.0                1333.564273  \n3395          ESP  46723749.0                1236.758634  \n3355          MCO     38682.0                 853.109974  \n3258          AUT   8847037.0                 780.939426  \n3368          NOR   5314336.0                 633.945614  \n3265          BEL  11422068.0                 545.873129  \n3309          DEU  82927922.0                 529.833607  \n3305          FRA  66987244.0                 435.232117  \n3362          NLD  17231017.0                 431.257192  \n3300          EST   1320884.0                 407.302988  \n3326          IRL   4853506.0                 374.780623  \n3377          PRT  10281762.0                 344.688002  \n3290          DNK   5797446.0                 323.763257  \n3327          ISR   8883800.0                 303.136045  \n3261          BHR   1569439.0                 291.824021  \n3399          SWE  10183175.0                 278.891407  \n3350          MLT    483530.0                 277.128617  \n3392          SVN   2067372.0                 271.842707  \n3378          QAT   2781677.0                 197.362958  \n3413          GBR  66488991.0                 175.337298  \n3304          FIN   5518050.0                 173.612055  \n3293          DMA     71625.0                 153.577661  \n3371          PAN   4176873.0                 133.592762  \n3339          LVA   1926542.0                 126.651794  ",
      "text/html": "<div>\n<style scoped>\n    .dataframe tbody tr th:only-of-type {\n        vertical-align: middle;\n    }\n\n    .dataframe tbody tr th {\n        vertical-align: top;\n    }\n\n    .dataframe thead th {\n        text-align: right;\n    }\n</style>\n<table border=\"1\" class=\"dataframe\">\n  <thead>\n    <tr style=\"text-align: right;\">\n      <th></th>\n      <th>FIPS</th>\n      <th>Admin2</th>\n      <th>Province_State</th>\n      <th>Country_Region</th>\n      <th>Last_Update</th>\n      <th>Lat</th>\n      <th>Long_</th>\n      <th>Confirmed</th>\n      <th>Deaths</th>\n      <th>Recovered</th>\n      <th>Active</th>\n      <th>Combined_Key</th>\n      <th>Series Name</th>\n      <th>Series Code</th>\n      <th>Country Name</th>\n      <th>Country Code</th>\n      <th>Population</th>\n      <th>bevestigd per 1M inwoners</th>\n    </tr>\n  </thead>\n  <tbody>\n    <tr>\n      <th>3385</th>\n      <td>NaN</td>\n      <td>NaN</td>\n      <td>NaN</td>\n      <td>San Marino</td>\n      <td>2020-03-26 23:48:18</td>\n      <td>43.942400</td>\n      <td>12.457800</td>\n      <td>208</td>\n      <td>21</td>\n      <td>4</td>\n      <td>183</td>\n      <td>San Marino</td>\n      <td>Population, total</td>\n      <td>SP.POP.TOTL</td>\n      <td>San Marino</td>\n      <td>SMR</td>\n      <td>33785.0</td>\n      <td>6156.578363</td>\n    </tr>\n    <tr>\n      <th>3253</th>\n      <td>NaN</td>\n      <td>NaN</td>\n      <td>NaN</td>\n      <td>Andorra</td>\n      <td>2020-03-26 23:48:18</td>\n      <td>42.506300</td>\n      <td>1.521800</td>\n      <td>224</td>\n      <td>3</td>\n      <td>1</td>\n      <td>220</td>\n      <td>Andorra</td>\n      <td>Population, total</td>\n      <td>SP.POP.TOTL</td>\n      <td>Andorra</td>\n      <td>AND</td>\n      <td>77006.0</td>\n      <td>2908.864244</td>\n    </tr>\n    <tr>\n      <th>3345</th>\n      <td>NaN</td>\n      <td>NaN</td>\n      <td>NaN</td>\n      <td>Luxembourg</td>\n      <td>2020-03-26 23:48:18</td>\n      <td>49.815300</td>\n      <td>6.129600</td>\n      <td>1453</td>\n      <td>9</td>\n      <td>6</td>\n      <td>1438</td>\n      <td>Luxembourg</td>\n      <td>Population, total</td>\n      <td>SP.POP.TOTL</td>\n      <td>Luxembourg</td>\n      <td>LUX</td>\n      <td>607728.0</td>\n      <td>2390.872232</td>\n    </tr>\n    <tr>\n      <th>3321</th>\n      <td>NaN</td>\n      <td>NaN</td>\n      <td>NaN</td>\n      <td>Iceland</td>\n      <td>2020-03-26 23:48:18</td>\n      <td>64.963100</td>\n      <td>-19.020800</td>\n      <td>802</td>\n      <td>2</td>\n      <td>82</td>\n      <td>718</td>\n      <td>Iceland</td>\n      <td>Population, total</td>\n      <td>SP.POP.TOTL</td>\n      <td>Iceland</td>\n      <td>ISL</td>\n      <td>353574.0</td>\n      <td>2268.266332</td>\n    </tr>\n    <tr>\n      <th>3343</th>\n      <td>NaN</td>\n      <td>NaN</td>\n      <td>NaN</td>\n      <td>Liechtenstein</td>\n      <td>2020-03-26 23:48:18</td>\n      <td>47.140000</td>\n      <td>9.550000</td>\n      <td>56</td>\n      <td>0</td>\n      <td>0</td>\n      <td>56</td>\n      <td>Liechtenstein</td>\n      <td>Population, total</td>\n      <td>SP.POP.TOTL</td>\n      <td>Liechtenstein</td>\n      <td>LIE</td>\n      <td>37910.0</td>\n      <td>1477.182801</td>\n    </tr>\n    <tr>\n      <th>3400</th>\n      <td>NaN</td>\n      <td>NaN</td>\n      <td>NaN</td>\n      <td>Switzerland</td>\n      <td>2020-03-26 23:48:18</td>\n      <td>46.818200</td>\n      <td>8.227500</td>\n      <td>11811</td>\n      <td>191</td>\n      <td>131</td>\n      <td>11489</td>\n      <td>Switzerland</td>\n      <td>Population, total</td>\n      <td>SP.POP.TOTL</td>\n      <td>Switzerland</td>\n      <td>CHE</td>\n      <td>8516543.0</td>\n      <td>1386.830314</td>\n    </tr>\n    <tr>\n      <th>3328</th>\n      <td>NaN</td>\n      <td>NaN</td>\n      <td>NaN</td>\n      <td>Italy</td>\n      <td>2020-03-26 23:48:18</td>\n      <td>41.871940</td>\n      <td>12.567380</td>\n      <td>80589</td>\n      <td>8215</td>\n      <td>10361</td>\n      <td>62013</td>\n      <td>Italy</td>\n      <td>Population, total</td>\n      <td>SP.POP.TOTL</td>\n      <td>Italy</td>\n      <td>ITA</td>\n      <td>60431283.0</td>\n      <td>1333.564273</td>\n    </tr>\n    <tr>\n      <th>3395</th>\n      <td>NaN</td>\n      <td>NaN</td>\n      <td>NaN</td>\n      <td>Spain</td>\n      <td>2020-03-26 23:48:18</td>\n      <td>40.463667</td>\n      <td>-3.749220</td>\n      <td>57786</td>\n      <td>4365</td>\n      <td>7015</td>\n      <td>46406</td>\n      <td>Spain</td>\n      <td>Population, total</td>\n      <td>SP.POP.TOTL</td>\n      <td>Spain</td>\n      <td>ESP</td>\n      <td>46723749.0</td>\n      <td>1236.758634</td>\n    </tr>\n    <tr>\n      <th>3355</th>\n      <td>NaN</td>\n      <td>NaN</td>\n      <td>NaN</td>\n      <td>Monaco</td>\n      <td>2020-03-26 23:48:18</td>\n      <td>43.733300</td>\n      <td>7.416700</td>\n      <td>33</td>\n      <td>0</td>\n      <td>1</td>\n      <td>32</td>\n      <td>Monaco</td>\n      <td>Population, total</td>\n      <td>SP.POP.TOTL</td>\n      <td>Monaco</td>\n      <td>MCO</td>\n      <td>38682.0</td>\n      <td>853.109974</td>\n    </tr>\n    <tr>\n      <th>3258</th>\n      <td>NaN</td>\n      <td>NaN</td>\n      <td>NaN</td>\n      <td>Austria</td>\n      <td>2020-03-26 23:48:18</td>\n      <td>47.516200</td>\n      <td>14.550100</td>\n      <td>6909</td>\n      <td>49</td>\n      <td>112</td>\n      <td>6748</td>\n      <td>Austria</td>\n      <td>Population, total</td>\n      <td>SP.POP.TOTL</td>\n      <td>Austria</td>\n      <td>AUT</td>\n      <td>8847037.0</td>\n      <td>780.939426</td>\n    </tr>\n    <tr>\n      <th>3368</th>\n      <td>NaN</td>\n      <td>NaN</td>\n      <td>NaN</td>\n      <td>Norway</td>\n      <td>2020-03-26 23:48:18</td>\n      <td>60.472000</td>\n      <td>8.468900</td>\n      <td>3369</td>\n      <td>14</td>\n      <td>6</td>\n      <td>3349</td>\n      <td>Norway</td>\n      <td>Population, total</td>\n      <td>SP.POP.TOTL</td>\n      <td>Norway</td>\n      <td>NOR</td>\n      <td>5314336.0</td>\n      <td>633.945614</td>\n    </tr>\n    <tr>\n      <th>3265</th>\n      <td>NaN</td>\n      <td>NaN</td>\n      <td>NaN</td>\n      <td>Belgium</td>\n      <td>2020-03-26 23:48:18</td>\n      <td>50.833300</td>\n      <td>4.469936</td>\n      <td>6235</td>\n      <td>220</td>\n      <td>675</td>\n      <td>5340</td>\n      <td>Belgium</td>\n      <td>Population, total</td>\n      <td>SP.POP.TOTL</td>\n      <td>Belgium</td>\n      <td>BEL</td>\n      <td>11422068.0</td>\n      <td>545.873129</td>\n    </tr>\n    <tr>\n      <th>3309</th>\n      <td>NaN</td>\n      <td>NaN</td>\n      <td>NaN</td>\n      <td>Germany</td>\n      <td>2020-03-26 23:48:18</td>\n      <td>51.165691</td>\n      <td>10.451526</td>\n      <td>43938</td>\n      <td>267</td>\n      <td>5673</td>\n      <td>37998</td>\n      <td>Germany</td>\n      <td>Population, total</td>\n      <td>SP.POP.TOTL</td>\n      <td>Germany</td>\n      <td>DEU</td>\n      <td>82927922.0</td>\n      <td>529.833607</td>\n    </tr>\n    <tr>\n      <th>3305</th>\n      <td>NaN</td>\n      <td>NaN</td>\n      <td>NaN</td>\n      <td>France</td>\n      <td>2020-03-26 23:48:18</td>\n      <td>46.227600</td>\n      <td>2.213700</td>\n      <td>29155</td>\n      <td>1696</td>\n      <td>4948</td>\n      <td>22511</td>\n      <td>France</td>\n      <td>Population, total</td>\n      <td>SP.POP.TOTL</td>\n      <td>France</td>\n      <td>FRA</td>\n      <td>66987244.0</td>\n      <td>435.232117</td>\n    </tr>\n    <tr>\n      <th>3362</th>\n      <td>NaN</td>\n      <td>NaN</td>\n      <td>NaN</td>\n      <td>Netherlands</td>\n      <td>2020-03-26 23:48:18</td>\n      <td>52.132600</td>\n      <td>5.291300</td>\n      <td>7431</td>\n      <td>434</td>\n      <td>3</td>\n      <td>6994</td>\n      <td>Netherlands</td>\n      <td>Population, total</td>\n      <td>SP.POP.TOTL</td>\n      <td>Netherlands</td>\n      <td>NLD</td>\n      <td>17231017.0</td>\n      <td>431.257192</td>\n    </tr>\n    <tr>\n      <th>3300</th>\n      <td>NaN</td>\n      <td>NaN</td>\n      <td>NaN</td>\n      <td>Estonia</td>\n      <td>2020-03-26 23:48:18</td>\n      <td>58.595300</td>\n      <td>25.013600</td>\n      <td>538</td>\n      <td>1</td>\n      <td>8</td>\n      <td>529</td>\n      <td>Estonia</td>\n      <td>Population, total</td>\n      <td>SP.POP.TOTL</td>\n      <td>Estonia</td>\n      <td>EST</td>\n      <td>1320884.0</td>\n      <td>407.302988</td>\n    </tr>\n    <tr>\n      <th>3326</th>\n      <td>NaN</td>\n      <td>NaN</td>\n      <td>NaN</td>\n      <td>Ireland</td>\n      <td>2020-03-26 23:48:18</td>\n      <td>53.142400</td>\n      <td>-7.692100</td>\n      <td>1819</td>\n      <td>19</td>\n      <td>5</td>\n      <td>1795</td>\n      <td>Ireland</td>\n      <td>Population, total</td>\n      <td>SP.POP.TOTL</td>\n      <td>Ireland</td>\n      <td>IRL</td>\n      <td>4853506.0</td>\n      <td>374.780623</td>\n    </tr>\n    <tr>\n      <th>3377</th>\n      <td>NaN</td>\n      <td>NaN</td>\n      <td>NaN</td>\n      <td>Portugal</td>\n      <td>2020-03-26 23:48:18</td>\n      <td>39.399900</td>\n      <td>-8.224500</td>\n      <td>3544</td>\n      <td>60</td>\n      <td>43</td>\n      <td>3441</td>\n      <td>Portugal</td>\n      <td>Population, total</td>\n      <td>SP.POP.TOTL</td>\n      <td>Portugal</td>\n      <td>PRT</td>\n      <td>10281762.0</td>\n      <td>344.688002</td>\n    </tr>\n    <tr>\n      <th>3290</th>\n      <td>NaN</td>\n      <td>NaN</td>\n      <td>NaN</td>\n      <td>Denmark</td>\n      <td>2020-03-26 23:48:18</td>\n      <td>56.263900</td>\n      <td>9.501800</td>\n      <td>1877</td>\n      <td>41</td>\n      <td>1</td>\n      <td>1835</td>\n      <td>Denmark</td>\n      <td>Population, total</td>\n      <td>SP.POP.TOTL</td>\n      <td>Denmark</td>\n      <td>DNK</td>\n      <td>5797446.0</td>\n      <td>323.763257</td>\n    </tr>\n    <tr>\n      <th>3327</th>\n      <td>NaN</td>\n      <td>NaN</td>\n      <td>NaN</td>\n      <td>Israel</td>\n      <td>2020-03-26 23:48:18</td>\n      <td>31.046051</td>\n      <td>34.851612</td>\n      <td>2693</td>\n      <td>8</td>\n      <td>68</td>\n      <td>2617</td>\n      <td>Israel</td>\n      <td>Population, total</td>\n      <td>SP.POP.TOTL</td>\n      <td>Israel</td>\n      <td>ISR</td>\n      <td>8883800.0</td>\n      <td>303.136045</td>\n    </tr>\n    <tr>\n      <th>3261</th>\n      <td>NaN</td>\n      <td>NaN</td>\n      <td>NaN</td>\n      <td>Bahrain</td>\n      <td>2020-03-26 23:48:18</td>\n      <td>26.027500</td>\n      <td>50.550000</td>\n      <td>458</td>\n      <td>4</td>\n      <td>204</td>\n      <td>250</td>\n      <td>Bahrain</td>\n      <td>Population, total</td>\n      <td>SP.POP.TOTL</td>\n      <td>Bahrain</td>\n      <td>BHR</td>\n      <td>1569439.0</td>\n      <td>291.824021</td>\n    </tr>\n    <tr>\n      <th>3399</th>\n      <td>NaN</td>\n      <td>NaN</td>\n      <td>NaN</td>\n      <td>Sweden</td>\n      <td>2020-03-26 23:48:18</td>\n      <td>60.128161</td>\n      <td>18.643501</td>\n      <td>2840</td>\n      <td>77</td>\n      <td>16</td>\n      <td>2747</td>\n      <td>Sweden</td>\n      <td>Population, total</td>\n      <td>SP.POP.TOTL</td>\n      <td>Sweden</td>\n      <td>SWE</td>\n      <td>10183175.0</td>\n      <td>278.891407</td>\n    </tr>\n    <tr>\n      <th>3350</th>\n      <td>NaN</td>\n      <td>NaN</td>\n      <td>NaN</td>\n      <td>Malta</td>\n      <td>2020-03-26 23:48:18</td>\n      <td>35.937500</td>\n      <td>14.375400</td>\n      <td>134</td>\n      <td>0</td>\n      <td>2</td>\n      <td>132</td>\n      <td>Malta</td>\n      <td>Population, total</td>\n      <td>SP.POP.TOTL</td>\n      <td>Malta</td>\n      <td>MLT</td>\n      <td>483530.0</td>\n      <td>277.128617</td>\n    </tr>\n    <tr>\n      <th>3392</th>\n      <td>NaN</td>\n      <td>NaN</td>\n      <td>NaN</td>\n      <td>Slovenia</td>\n      <td>2020-03-26 23:48:18</td>\n      <td>46.151200</td>\n      <td>14.995500</td>\n      <td>562</td>\n      <td>6</td>\n      <td>10</td>\n      <td>546</td>\n      <td>Slovenia</td>\n      <td>Population, total</td>\n      <td>SP.POP.TOTL</td>\n      <td>Slovenia</td>\n      <td>SVN</td>\n      <td>2067372.0</td>\n      <td>271.842707</td>\n    </tr>\n    <tr>\n      <th>3378</th>\n      <td>NaN</td>\n      <td>NaN</td>\n      <td>NaN</td>\n      <td>Qatar</td>\n      <td>2020-03-26 23:48:18</td>\n      <td>25.354800</td>\n      <td>51.183900</td>\n      <td>549</td>\n      <td>0</td>\n      <td>43</td>\n      <td>506</td>\n      <td>Qatar</td>\n      <td>Population, total</td>\n      <td>SP.POP.TOTL</td>\n      <td>Qatar</td>\n      <td>QAT</td>\n      <td>2781677.0</td>\n      <td>197.362958</td>\n    </tr>\n    <tr>\n      <th>3413</th>\n      <td>NaN</td>\n      <td>NaN</td>\n      <td>NaN</td>\n      <td>United Kingdom</td>\n      <td>2020-03-26 23:48:18</td>\n      <td>55.378100</td>\n      <td>-3.436000</td>\n      <td>11658</td>\n      <td>578</td>\n      <td>135</td>\n      <td>10945</td>\n      <td>United Kingdom</td>\n      <td>Population, total</td>\n      <td>SP.POP.TOTL</td>\n      <td>United Kingdom</td>\n      <td>GBR</td>\n      <td>66488991.0</td>\n      <td>175.337298</td>\n    </tr>\n    <tr>\n      <th>3304</th>\n      <td>NaN</td>\n      <td>NaN</td>\n      <td>NaN</td>\n      <td>Finland</td>\n      <td>2020-03-26 23:48:18</td>\n      <td>61.924110</td>\n      <td>25.748151</td>\n      <td>958</td>\n      <td>5</td>\n      <td>10</td>\n      <td>943</td>\n      <td>Finland</td>\n      <td>Population, total</td>\n      <td>SP.POP.TOTL</td>\n      <td>Finland</td>\n      <td>FIN</td>\n      <td>5518050.0</td>\n      <td>173.612055</td>\n    </tr>\n    <tr>\n      <th>3293</th>\n      <td>NaN</td>\n      <td>NaN</td>\n      <td>NaN</td>\n      <td>Dominica</td>\n      <td>2020-03-26 23:48:18</td>\n      <td>15.415000</td>\n      <td>-61.371000</td>\n      <td>11</td>\n      <td>0</td>\n      <td>0</td>\n      <td>11</td>\n      <td>Dominica</td>\n      <td>Population, total</td>\n      <td>SP.POP.TOTL</td>\n      <td>Dominica</td>\n      <td>DMA</td>\n      <td>71625.0</td>\n      <td>153.577661</td>\n    </tr>\n    <tr>\n      <th>3371</th>\n      <td>NaN</td>\n      <td>NaN</td>\n      <td>NaN</td>\n      <td>Panama</td>\n      <td>2020-03-26 23:48:18</td>\n      <td>8.538000</td>\n      <td>-80.782100</td>\n      <td>558</td>\n      <td>8</td>\n      <td>2</td>\n      <td>548</td>\n      <td>Panama</td>\n      <td>Population, total</td>\n      <td>SP.POP.TOTL</td>\n      <td>Panama</td>\n      <td>PAN</td>\n      <td>4176873.0</td>\n      <td>133.592762</td>\n    </tr>\n    <tr>\n      <th>3339</th>\n      <td>NaN</td>\n      <td>NaN</td>\n      <td>NaN</td>\n      <td>Latvia</td>\n      <td>2020-03-26 23:48:18</td>\n      <td>56.879600</td>\n      <td>24.603200</td>\n      <td>244</td>\n      <td>0</td>\n      <td>1</td>\n      <td>243</td>\n      <td>Latvia</td>\n      <td>Population, total</td>\n      <td>SP.POP.TOTL</td>\n      <td>Latvia</td>\n      <td>LVA</td>\n      <td>1926542.0</td>\n      <td>126.651794</td>\n    </tr>\n  </tbody>\n</table>\n</div>"
     },
     "metadata": {},
     "execution_count": 13
    }
   ],
   "source": [
    "#zoek NL in dit lijstje\n",
    "df_merged.sort_values('bevestigd per 1M inwoners', ascending=False).head(30)"
   ]
  },
  {
   "cell_type": "code",
   "execution_count": 14,
   "metadata": {},
   "outputs": [],
   "source": [
    "#hernoem de kolom 'Population' naar 'Inwoneraantal'\n",
    "df_merged= df_merged.rename(columns={\"Population\": \"Inwoneraantal\"})"
   ]
  },
  {
   "cell_type": "code",
   "execution_count": 18,
   "metadata": {},
   "outputs": [],
   "source": [
    "# selecteer alleen de kolommen 'Country Name','Confirmed', 'bevestigd per 1M inwoners'\n",
    "df_merged = df_merged.loc[:,['Country Name','Confirmed', 'bevestigd per 1M inwoners']]"
   ]
  },
  {
   "cell_type": "code",
   "execution_count": 19,
   "metadata": {},
   "outputs": [],
   "source": [
    "#sla op als csv\n",
    "df_merged.to_csv('output.csv')"
   ]
  },
  {
   "cell_type": "code",
   "execution_count": 20,
   "metadata": {},
   "outputs": [
    {
     "output_type": "execute_result",
     "data": {
      "text/plain": "   Unnamed: 0    Country Name  Confirmed  bevestigd per 1M inwoners\n0        3166          Canada        486                  13.114274\n1        3168           China        990                   0.710834\n2        3169     Netherlands         28                   1.624977\n3        3170       Australia         53                   2.120647\n4        3171           China        566                   0.406396\n5        3172  United Kingdom         15                   0.225601\n6        3173          Canada        725                  19.563475\n7        3174  United Kingdom          8                   0.120321\n8        3175  United Kingdom         66                   0.992646\n9        3176           China        578                   0.415012",
      "text/html": "<div>\n<style scoped>\n    .dataframe tbody tr th:only-of-type {\n        vertical-align: middle;\n    }\n\n    .dataframe tbody tr th {\n        vertical-align: top;\n    }\n\n    .dataframe thead th {\n        text-align: right;\n    }\n</style>\n<table border=\"1\" class=\"dataframe\">\n  <thead>\n    <tr style=\"text-align: right;\">\n      <th></th>\n      <th>Unnamed: 0</th>\n      <th>Country Name</th>\n      <th>Confirmed</th>\n      <th>bevestigd per 1M inwoners</th>\n    </tr>\n  </thead>\n  <tbody>\n    <tr>\n      <th>0</th>\n      <td>3166</td>\n      <td>Canada</td>\n      <td>486</td>\n      <td>13.114274</td>\n    </tr>\n    <tr>\n      <th>1</th>\n      <td>3168</td>\n      <td>China</td>\n      <td>990</td>\n      <td>0.710834</td>\n    </tr>\n    <tr>\n      <th>2</th>\n      <td>3169</td>\n      <td>Netherlands</td>\n      <td>28</td>\n      <td>1.624977</td>\n    </tr>\n    <tr>\n      <th>3</th>\n      <td>3170</td>\n      <td>Australia</td>\n      <td>53</td>\n      <td>2.120647</td>\n    </tr>\n    <tr>\n      <th>4</th>\n      <td>3171</td>\n      <td>China</td>\n      <td>566</td>\n      <td>0.406396</td>\n    </tr>\n    <tr>\n      <th>5</th>\n      <td>3172</td>\n      <td>United Kingdom</td>\n      <td>15</td>\n      <td>0.225601</td>\n    </tr>\n    <tr>\n      <th>6</th>\n      <td>3173</td>\n      <td>Canada</td>\n      <td>725</td>\n      <td>19.563475</td>\n    </tr>\n    <tr>\n      <th>7</th>\n      <td>3174</td>\n      <td>United Kingdom</td>\n      <td>8</td>\n      <td>0.120321</td>\n    </tr>\n    <tr>\n      <th>8</th>\n      <td>3175</td>\n      <td>United Kingdom</td>\n      <td>66</td>\n      <td>0.992646</td>\n    </tr>\n    <tr>\n      <th>9</th>\n      <td>3176</td>\n      <td>China</td>\n      <td>578</td>\n      <td>0.415012</td>\n    </tr>\n  </tbody>\n</table>\n</div>"
     },
     "metadata": {},
     "execution_count": 20
    }
   ],
   "source": [
    "#bekijk de csv\n",
    "nieuwe_csv = pd.read_csv('output.csv')\n",
    "nieuwe_csv.head(10)"
   ]
  }
 ]
}