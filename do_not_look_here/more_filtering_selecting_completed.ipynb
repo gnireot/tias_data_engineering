{
 "nbformat": 4,
 "nbformat_minor": 2,
 "metadata": {
  "language_info": {
   "name": "python",
   "codemirror_mode": {
    "name": "ipython",
    "version": 3
   },
   "version": "3.8.0-final"
  },
  "orig_nbformat": 2,
  "file_extension": ".py",
  "mimetype": "text/x-python",
  "name": "python",
  "npconvert_exporter": "python",
  "pygments_lexer": "ipython3",
  "version": 3,
  "kernelspec": {
   "name": "python38064bitcondac61baea020db4b8dba48eddc6323b089",
   "display_name": "Python 3.8.0 64-bit (conda)"
  }
 },
 "cells": [
  {
   "cell_type": "markdown",
   "execution_count": null,
   "metadata": {},
   "outputs": [],
   "source": [
    "## Tias Data Engineering\n",
    "Exercise 6: More filtering and Selecting"
   ]
  },
  {
   "cell_type": "code",
   "execution_count": 1,
   "metadata": {},
   "outputs": [],
   "source": [
    "#importing the pandas library\n",
    "import pandas as pd\n",
    "import matplotlib.pyplot as plt"
   ]
  },
  {
   "cell_type": "code",
   "execution_count": 2,
   "metadata": {},
   "outputs": [],
   "source": [
    "corona_data_url = \"https://raw.githubusercontent.com/CSSEGISandData/COVID-19/master/csse_covid_19_data/csse_covid_19_daily_reports/03-19-2020.csv\"\n",
    "df = pd.read_csv(corona_data_url)\n",
    "df['Last Update'] = pd.to_datetime(df['Last Update'])"
   ]
  },
  {
   "cell_type": "code",
   "execution_count": 3,
   "metadata": {},
   "outputs": [
    {
     "output_type": "stream",
     "name": "stdout",
     "text": "<class 'pandas.core.frame.DataFrame'>\nRangeIndex: 292 entries, 0 to 291\nData columns (total 8 columns):\n #   Column          Non-Null Count  Dtype         \n---  ------          --------------  -----         \n 0   Province/State  133 non-null    object        \n 1   Country/Region  292 non-null    object        \n 2   Last Update     292 non-null    datetime64[ns]\n 3   Confirmed       292 non-null    int64         \n 4   Deaths          292 non-null    int64         \n 5   Recovered       292 non-null    int64         \n 6   Latitude        292 non-null    float64       \n 7   Longitude       292 non-null    float64       \ndtypes: datetime64[ns](1), float64(2), int64(3), object(2)\nmemory usage: 18.4+ KB\n"
    }
   ],
   "source": [
    "#selecting one column:\n",
    "df.info()"
   ]
  },
  {
   "cell_type": "markdown",
   "execution_count": null,
   "metadata": {},
   "outputs": [],
   "source": [
    "### Filtering and selecting\n",
    "\n",
    "getting values, subsets and aggregations:  \n",
    "\n"
   ]
  },
  {
   "cell_type": "code",
   "execution_count": 4,
   "metadata": {},
   "outputs": [
    {
     "output_type": "execute_result",
     "data": {
      "text/plain": "     Confirmed         Country/Region\n0        67800                  China\n1        41035                  Italy\n2        18407                   Iran\n3        17963                  Spain\n4        15320                Germany\n..         ...                    ...\n287          0                 Jersey\n288          0            Puerto Rico\n289          0  Republic of the Congo\n290          0            The Bahamas\n291          0             The Gambia\n\n[292 rows x 2 columns]",
      "text/html": "<div>\n<style scoped>\n    .dataframe tbody tr th:only-of-type {\n        vertical-align: middle;\n    }\n\n    .dataframe tbody tr th {\n        vertical-align: top;\n    }\n\n    .dataframe thead th {\n        text-align: right;\n    }\n</style>\n<table border=\"1\" class=\"dataframe\">\n  <thead>\n    <tr style=\"text-align: right;\">\n      <th></th>\n      <th>Confirmed</th>\n      <th>Country/Region</th>\n    </tr>\n  </thead>\n  <tbody>\n    <tr>\n      <th>0</th>\n      <td>67800</td>\n      <td>China</td>\n    </tr>\n    <tr>\n      <th>1</th>\n      <td>41035</td>\n      <td>Italy</td>\n    </tr>\n    <tr>\n      <th>2</th>\n      <td>18407</td>\n      <td>Iran</td>\n    </tr>\n    <tr>\n      <th>3</th>\n      <td>17963</td>\n      <td>Spain</td>\n    </tr>\n    <tr>\n      <th>4</th>\n      <td>15320</td>\n      <td>Germany</td>\n    </tr>\n    <tr>\n      <th>...</th>\n      <td>...</td>\n      <td>...</td>\n    </tr>\n    <tr>\n      <th>287</th>\n      <td>0</td>\n      <td>Jersey</td>\n    </tr>\n    <tr>\n      <th>288</th>\n      <td>0</td>\n      <td>Puerto Rico</td>\n    </tr>\n    <tr>\n      <th>289</th>\n      <td>0</td>\n      <td>Republic of the Congo</td>\n    </tr>\n    <tr>\n      <th>290</th>\n      <td>0</td>\n      <td>The Bahamas</td>\n    </tr>\n    <tr>\n      <th>291</th>\n      <td>0</td>\n      <td>The Gambia</td>\n    </tr>\n  </tbody>\n</table>\n<p>292 rows × 2 columns</p>\n</div>"
     },
     "metadata": {},
     "execution_count": 4
    }
   ],
   "source": [
    "#select columns Confirmed & Country/Region\n",
    "df[['Confirmed','Country/Region']]"
   ]
  },
  {
   "cell_type": "code",
   "execution_count": 5,
   "metadata": {},
   "outputs": [
    {
     "output_type": "execute_result",
     "data": {
      "text/plain": "   Province/State Country/Region         Last Update  Confirmed  Deaths  \\\n10    Netherlands    Netherlands 2020-03-19 14:53:06       2460      76   \n11            NaN        Austria 2020-03-19 14:53:05       2013       6   \n12            NaN        Belgium 2020-03-19 11:13:17       1795      21   \n13            NaN         Norway 2020-03-19 17:13:14       1746       7   \n14            NaN         Sweden 2020-03-19 15:13:27       1439      11   \n15      Guangdong          China 2020-03-19 01:13:06       1378       8   \n16     Washington             US 2020-03-19 23:43:04       1376      74   \n17          Henan          China 2020-03-14 09:53:08       1273      22   \n18       Zhejiang          China 2020-03-19 10:13:14       1233       1   \n19        Denmark        Denmark 2020-03-19 17:13:42       1151       6   \n\n    Recovered  Latitude  Longitude  \n10          2   52.1326     5.2913  \n11          9   47.5162    14.5501  \n12         31   50.5039     4.4699  \n13          1   60.4720     8.4689  \n14         16   60.1282    18.6435  \n15       1318   23.3417   113.4244  \n16          0   47.4009  -121.4905  \n17       1250   33.8820   113.6140  \n18       1217   29.1832   120.0934  \n19          1   56.2639     9.5018  ",
      "text/html": "<div>\n<style scoped>\n    .dataframe tbody tr th:only-of-type {\n        vertical-align: middle;\n    }\n\n    .dataframe tbody tr th {\n        vertical-align: top;\n    }\n\n    .dataframe thead th {\n        text-align: right;\n    }\n</style>\n<table border=\"1\" class=\"dataframe\">\n  <thead>\n    <tr style=\"text-align: right;\">\n      <th></th>\n      <th>Province/State</th>\n      <th>Country/Region</th>\n      <th>Last Update</th>\n      <th>Confirmed</th>\n      <th>Deaths</th>\n      <th>Recovered</th>\n      <th>Latitude</th>\n      <th>Longitude</th>\n    </tr>\n  </thead>\n  <tbody>\n    <tr>\n      <th>10</th>\n      <td>Netherlands</td>\n      <td>Netherlands</td>\n      <td>2020-03-19 14:53:06</td>\n      <td>2460</td>\n      <td>76</td>\n      <td>2</td>\n      <td>52.1326</td>\n      <td>5.2913</td>\n    </tr>\n    <tr>\n      <th>11</th>\n      <td>NaN</td>\n      <td>Austria</td>\n      <td>2020-03-19 14:53:05</td>\n      <td>2013</td>\n      <td>6</td>\n      <td>9</td>\n      <td>47.5162</td>\n      <td>14.5501</td>\n    </tr>\n    <tr>\n      <th>12</th>\n      <td>NaN</td>\n      <td>Belgium</td>\n      <td>2020-03-19 11:13:17</td>\n      <td>1795</td>\n      <td>21</td>\n      <td>31</td>\n      <td>50.5039</td>\n      <td>4.4699</td>\n    </tr>\n    <tr>\n      <th>13</th>\n      <td>NaN</td>\n      <td>Norway</td>\n      <td>2020-03-19 17:13:14</td>\n      <td>1746</td>\n      <td>7</td>\n      <td>1</td>\n      <td>60.4720</td>\n      <td>8.4689</td>\n    </tr>\n    <tr>\n      <th>14</th>\n      <td>NaN</td>\n      <td>Sweden</td>\n      <td>2020-03-19 15:13:27</td>\n      <td>1439</td>\n      <td>11</td>\n      <td>16</td>\n      <td>60.1282</td>\n      <td>18.6435</td>\n    </tr>\n    <tr>\n      <th>15</th>\n      <td>Guangdong</td>\n      <td>China</td>\n      <td>2020-03-19 01:13:06</td>\n      <td>1378</td>\n      <td>8</td>\n      <td>1318</td>\n      <td>23.3417</td>\n      <td>113.4244</td>\n    </tr>\n    <tr>\n      <th>16</th>\n      <td>Washington</td>\n      <td>US</td>\n      <td>2020-03-19 23:43:04</td>\n      <td>1376</td>\n      <td>74</td>\n      <td>0</td>\n      <td>47.4009</td>\n      <td>-121.4905</td>\n    </tr>\n    <tr>\n      <th>17</th>\n      <td>Henan</td>\n      <td>China</td>\n      <td>2020-03-14 09:53:08</td>\n      <td>1273</td>\n      <td>22</td>\n      <td>1250</td>\n      <td>33.8820</td>\n      <td>113.6140</td>\n    </tr>\n    <tr>\n      <th>18</th>\n      <td>Zhejiang</td>\n      <td>China</td>\n      <td>2020-03-19 10:13:14</td>\n      <td>1233</td>\n      <td>1</td>\n      <td>1217</td>\n      <td>29.1832</td>\n      <td>120.0934</td>\n    </tr>\n    <tr>\n      <th>19</th>\n      <td>Denmark</td>\n      <td>Denmark</td>\n      <td>2020-03-19 17:13:42</td>\n      <td>1151</td>\n      <td>6</td>\n      <td>1</td>\n      <td>56.2639</td>\n      <td>9.5018</td>\n    </tr>\n  </tbody>\n</table>\n</div>"
     },
     "metadata": {},
     "execution_count": 5
    }
   ],
   "source": [
    "#selecting row 10 - 20\n",
    "df.iloc[10:20,]"
   ]
  },
  {
   "cell_type": "code",
   "execution_count": 6,
   "metadata": {},
   "outputs": [
    {
     "output_type": "execute_result",
     "data": {
      "text/plain": "    Province/State         Country/Region         Last Update  Confirmed  \\\n282        Mayotte                 France 2020-03-18 14:33:15          0   \n283        Reunion                 France 2020-03-18 14:33:15          0   \n284            NaN              Greenland 2020-03-19 09:33:04          0   \n285            NaN                   Guam 2020-03-18 19:14:33          0   \n286            NaN               Guernsey 2020-03-17 18:33:03          0   \n287            NaN                 Jersey 2020-03-17 18:33:03          0   \n288            NaN            Puerto Rico 2020-03-17 16:13:14          0   \n289            NaN  Republic of the Congo 2020-03-17 21:33:03          0   \n290            NaN            The Bahamas 2020-03-19 12:13:38          0   \n291            NaN             The Gambia 2020-03-18 14:13:56          0   \n\n     Deaths  Recovered  Latitude  Longitude  \n282       0          0  -12.8431    45.1383  \n283       0          0  -21.1351    55.2471  \n284       0          0   72.0000   -40.0000  \n285       0          0   13.4443   144.7937  \n286       0          0   49.4500    -2.5800  \n287       0          0   49.1900    -2.1100  \n288       0          0   18.2000   -66.5000  \n289       0          0   -1.4400    15.5560  \n290       0          0   24.2500   -76.0000  \n291       0          0   13.4667   -16.6000  ",
      "text/html": "<div>\n<style scoped>\n    .dataframe tbody tr th:only-of-type {\n        vertical-align: middle;\n    }\n\n    .dataframe tbody tr th {\n        vertical-align: top;\n    }\n\n    .dataframe thead th {\n        text-align: right;\n    }\n</style>\n<table border=\"1\" class=\"dataframe\">\n  <thead>\n    <tr style=\"text-align: right;\">\n      <th></th>\n      <th>Province/State</th>\n      <th>Country/Region</th>\n      <th>Last Update</th>\n      <th>Confirmed</th>\n      <th>Deaths</th>\n      <th>Recovered</th>\n      <th>Latitude</th>\n      <th>Longitude</th>\n    </tr>\n  </thead>\n  <tbody>\n    <tr>\n      <th>282</th>\n      <td>Mayotte</td>\n      <td>France</td>\n      <td>2020-03-18 14:33:15</td>\n      <td>0</td>\n      <td>0</td>\n      <td>0</td>\n      <td>-12.8431</td>\n      <td>45.1383</td>\n    </tr>\n    <tr>\n      <th>283</th>\n      <td>Reunion</td>\n      <td>France</td>\n      <td>2020-03-18 14:33:15</td>\n      <td>0</td>\n      <td>0</td>\n      <td>0</td>\n      <td>-21.1351</td>\n      <td>55.2471</td>\n    </tr>\n    <tr>\n      <th>284</th>\n      <td>NaN</td>\n      <td>Greenland</td>\n      <td>2020-03-19 09:33:04</td>\n      <td>0</td>\n      <td>0</td>\n      <td>0</td>\n      <td>72.0000</td>\n      <td>-40.0000</td>\n    </tr>\n    <tr>\n      <th>285</th>\n      <td>NaN</td>\n      <td>Guam</td>\n      <td>2020-03-18 19:14:33</td>\n      <td>0</td>\n      <td>0</td>\n      <td>0</td>\n      <td>13.4443</td>\n      <td>144.7937</td>\n    </tr>\n    <tr>\n      <th>286</th>\n      <td>NaN</td>\n      <td>Guernsey</td>\n      <td>2020-03-17 18:33:03</td>\n      <td>0</td>\n      <td>0</td>\n      <td>0</td>\n      <td>49.4500</td>\n      <td>-2.5800</td>\n    </tr>\n    <tr>\n      <th>287</th>\n      <td>NaN</td>\n      <td>Jersey</td>\n      <td>2020-03-17 18:33:03</td>\n      <td>0</td>\n      <td>0</td>\n      <td>0</td>\n      <td>49.1900</td>\n      <td>-2.1100</td>\n    </tr>\n    <tr>\n      <th>288</th>\n      <td>NaN</td>\n      <td>Puerto Rico</td>\n      <td>2020-03-17 16:13:14</td>\n      <td>0</td>\n      <td>0</td>\n      <td>0</td>\n      <td>18.2000</td>\n      <td>-66.5000</td>\n    </tr>\n    <tr>\n      <th>289</th>\n      <td>NaN</td>\n      <td>Republic of the Congo</td>\n      <td>2020-03-17 21:33:03</td>\n      <td>0</td>\n      <td>0</td>\n      <td>0</td>\n      <td>-1.4400</td>\n      <td>15.5560</td>\n    </tr>\n    <tr>\n      <th>290</th>\n      <td>NaN</td>\n      <td>The Bahamas</td>\n      <td>2020-03-19 12:13:38</td>\n      <td>0</td>\n      <td>0</td>\n      <td>0</td>\n      <td>24.2500</td>\n      <td>-76.0000</td>\n    </tr>\n    <tr>\n      <th>291</th>\n      <td>NaN</td>\n      <td>The Gambia</td>\n      <td>2020-03-18 14:13:56</td>\n      <td>0</td>\n      <td>0</td>\n      <td>0</td>\n      <td>13.4667</td>\n      <td>-16.6000</td>\n    </tr>\n  </tbody>\n</table>\n</div>"
     },
     "metadata": {},
     "execution_count": 6
    }
   ],
   "source": [
    "# select the last 10 rows\n",
    "df.iloc[-10:,]"
   ]
  },
  {
   "cell_type": "code",
   "execution_count": 7,
   "metadata": {},
   "outputs": [
    {
     "output_type": "execute_result",
     "data": {
      "text/plain": "     Province/State         Country/Region         Last Update  Confirmed  \\\n210  Grand Princess                 Canada 2020-03-18 11:53:04          9   \n211             NaN          Cote d'Ivoire 2020-03-19 01:03:46          9   \n212             NaN              Guatemala 2020-03-19 17:13:24          9   \n213             NaN    Trinidad and Tobago 2020-03-19 10:53:03          9   \n214          Alaska                     US 2020-03-19 02:33:09          9   \n..              ...                    ...                 ...        ...   \n287             NaN                 Jersey 2020-03-17 18:33:03          0   \n288             NaN            Puerto Rico 2020-03-17 16:13:14          0   \n289             NaN  Republic of the Congo 2020-03-17 21:33:03          0   \n290             NaN            The Bahamas 2020-03-19 12:13:38          0   \n291             NaN             The Gambia 2020-03-18 14:13:56          0   \n\n     Deaths  Recovered  Latitude  Longitude  \n210       0          0   37.6489  -122.6655  \n211       0          1    7.5400    -5.5471  \n212       1          0   15.7835   -90.2308  \n213       0          0   10.6918   -61.2225  \n214       0          0   61.3707  -152.4044  \n..      ...        ...       ...        ...  \n287       0          0   49.1900    -2.1100  \n288       0          0   18.2000   -66.5000  \n289       0          0   -1.4400    15.5560  \n290       0          0   24.2500   -76.0000  \n291       0          0   13.4667   -16.6000  \n\n[82 rows x 8 columns]",
      "text/html": "<div>\n<style scoped>\n    .dataframe tbody tr th:only-of-type {\n        vertical-align: middle;\n    }\n\n    .dataframe tbody tr th {\n        vertical-align: top;\n    }\n\n    .dataframe thead th {\n        text-align: right;\n    }\n</style>\n<table border=\"1\" class=\"dataframe\">\n  <thead>\n    <tr style=\"text-align: right;\">\n      <th></th>\n      <th>Province/State</th>\n      <th>Country/Region</th>\n      <th>Last Update</th>\n      <th>Confirmed</th>\n      <th>Deaths</th>\n      <th>Recovered</th>\n      <th>Latitude</th>\n      <th>Longitude</th>\n    </tr>\n  </thead>\n  <tbody>\n    <tr>\n      <th>210</th>\n      <td>Grand Princess</td>\n      <td>Canada</td>\n      <td>2020-03-18 11:53:04</td>\n      <td>9</td>\n      <td>0</td>\n      <td>0</td>\n      <td>37.6489</td>\n      <td>-122.6655</td>\n    </tr>\n    <tr>\n      <th>211</th>\n      <td>NaN</td>\n      <td>Cote d'Ivoire</td>\n      <td>2020-03-19 01:03:46</td>\n      <td>9</td>\n      <td>0</td>\n      <td>1</td>\n      <td>7.5400</td>\n      <td>-5.5471</td>\n    </tr>\n    <tr>\n      <th>212</th>\n      <td>NaN</td>\n      <td>Guatemala</td>\n      <td>2020-03-19 17:13:24</td>\n      <td>9</td>\n      <td>1</td>\n      <td>0</td>\n      <td>15.7835</td>\n      <td>-90.2308</td>\n    </tr>\n    <tr>\n      <th>213</th>\n      <td>NaN</td>\n      <td>Trinidad and Tobago</td>\n      <td>2020-03-19 10:53:03</td>\n      <td>9</td>\n      <td>0</td>\n      <td>0</td>\n      <td>10.6918</td>\n      <td>-61.2225</td>\n    </tr>\n    <tr>\n      <th>214</th>\n      <td>Alaska</td>\n      <td>US</td>\n      <td>2020-03-19 02:33:09</td>\n      <td>9</td>\n      <td>0</td>\n      <td>0</td>\n      <td>61.3707</td>\n      <td>-152.4044</td>\n    </tr>\n    <tr>\n      <th>...</th>\n      <td>...</td>\n      <td>...</td>\n      <td>...</td>\n      <td>...</td>\n      <td>...</td>\n      <td>...</td>\n      <td>...</td>\n      <td>...</td>\n    </tr>\n    <tr>\n      <th>287</th>\n      <td>NaN</td>\n      <td>Jersey</td>\n      <td>2020-03-17 18:33:03</td>\n      <td>0</td>\n      <td>0</td>\n      <td>0</td>\n      <td>49.1900</td>\n      <td>-2.1100</td>\n    </tr>\n    <tr>\n      <th>288</th>\n      <td>NaN</td>\n      <td>Puerto Rico</td>\n      <td>2020-03-17 16:13:14</td>\n      <td>0</td>\n      <td>0</td>\n      <td>0</td>\n      <td>18.2000</td>\n      <td>-66.5000</td>\n    </tr>\n    <tr>\n      <th>289</th>\n      <td>NaN</td>\n      <td>Republic of the Congo</td>\n      <td>2020-03-17 21:33:03</td>\n      <td>0</td>\n      <td>0</td>\n      <td>0</td>\n      <td>-1.4400</td>\n      <td>15.5560</td>\n    </tr>\n    <tr>\n      <th>290</th>\n      <td>NaN</td>\n      <td>The Bahamas</td>\n      <td>2020-03-19 12:13:38</td>\n      <td>0</td>\n      <td>0</td>\n      <td>0</td>\n      <td>24.2500</td>\n      <td>-76.0000</td>\n    </tr>\n    <tr>\n      <th>291</th>\n      <td>NaN</td>\n      <td>The Gambia</td>\n      <td>2020-03-18 14:13:56</td>\n      <td>0</td>\n      <td>0</td>\n      <td>0</td>\n      <td>13.4667</td>\n      <td>-16.6000</td>\n    </tr>\n  </tbody>\n</table>\n<p>82 rows × 8 columns</p>\n</div>"
     },
     "metadata": {},
     "execution_count": 7
    }
   ],
   "source": [
    "#filter rows on value:\n",
    "df[df['Confirmed']<10]"
   ]
  },
  {
   "cell_type": "markdown",
   "metadata": {},
   "source": [
    "## Exercises"
   ],
   "execution_count": null,
   "outputs": []
  },
  {
   "cell_type": "code",
   "execution_count": 8,
   "metadata": {},
   "outputs": [
    {
     "output_type": "stream",
     "name": "stdout",
     "text": "Longitude\n0     112.2707\n1      12.5674\n2      53.6880\n3      -3.7492\n4      10.4515\n..         ...\n287    -2.1100\n288   -66.5000\n289    15.5560\n290   -76.0000\n291   -16.6000\n\n[292 rows x 1 columns]\n<class 'pandas.core.frame.DataFrame'>\n"
    }
   ],
   "source": [
    "# select the column 'Longitude'. Make sure the output is a dataframe using type()\n",
    "print(df[['Longitude']])\n",
    "\n",
    "print(type(df[['Longitude']]))\n",
    ""
   ]
  },
  {
   "cell_type": "code",
   "execution_count": 9,
   "metadata": {},
   "outputs": [
    {
     "output_type": "execute_result",
     "data": {
      "text/plain": "    Province/State  Country/Region         Last Update\n0            Hubei           China 2020-03-19 10:13:14\n1              NaN           Italy 2020-03-19 17:43:03\n2              NaN            Iran 2020-03-19 11:33:29\n3              NaN           Spain 2020-03-19 20:13:08\n4              NaN         Germany 2020-03-19 20:13:08\n5           France          France 2020-03-19 20:43:02\n6              NaN    Korea, South 2020-03-19 02:13:17\n7         New York              US 2020-03-19 23:43:04\n8              NaN     Switzerland 2020-03-19 21:13:15\n9   United Kingdom  United Kingdom 2020-03-19 17:13:27\n10     Netherlands     Netherlands 2020-03-19 14:53:06\n11             NaN         Austria 2020-03-19 14:53:05\n12             NaN         Belgium 2020-03-19 11:13:17\n13             NaN          Norway 2020-03-19 17:13:14\n14             NaN          Sweden 2020-03-19 15:13:27\n15       Guangdong           China 2020-03-19 01:13:06\n16      Washington              US 2020-03-19 23:43:04\n17           Henan           China 2020-03-14 09:53:08\n18        Zhejiang           China 2020-03-19 10:13:14\n19         Denmark         Denmark 2020-03-19 17:13:42",
      "text/html": "<div>\n<style scoped>\n    .dataframe tbody tr th:only-of-type {\n        vertical-align: middle;\n    }\n\n    .dataframe tbody tr th {\n        vertical-align: top;\n    }\n\n    .dataframe thead th {\n        text-align: right;\n    }\n</style>\n<table border=\"1\" class=\"dataframe\">\n  <thead>\n    <tr style=\"text-align: right;\">\n      <th></th>\n      <th>Province/State</th>\n      <th>Country/Region</th>\n      <th>Last Update</th>\n    </tr>\n  </thead>\n  <tbody>\n    <tr>\n      <th>0</th>\n      <td>Hubei</td>\n      <td>China</td>\n      <td>2020-03-19 10:13:14</td>\n    </tr>\n    <tr>\n      <th>1</th>\n      <td>NaN</td>\n      <td>Italy</td>\n      <td>2020-03-19 17:43:03</td>\n    </tr>\n    <tr>\n      <th>2</th>\n      <td>NaN</td>\n      <td>Iran</td>\n      <td>2020-03-19 11:33:29</td>\n    </tr>\n    <tr>\n      <th>3</th>\n      <td>NaN</td>\n      <td>Spain</td>\n      <td>2020-03-19 20:13:08</td>\n    </tr>\n    <tr>\n      <th>4</th>\n      <td>NaN</td>\n      <td>Germany</td>\n      <td>2020-03-19 20:13:08</td>\n    </tr>\n    <tr>\n      <th>5</th>\n      <td>France</td>\n      <td>France</td>\n      <td>2020-03-19 20:43:02</td>\n    </tr>\n    <tr>\n      <th>6</th>\n      <td>NaN</td>\n      <td>Korea, South</td>\n      <td>2020-03-19 02:13:17</td>\n    </tr>\n    <tr>\n      <th>7</th>\n      <td>New York</td>\n      <td>US</td>\n      <td>2020-03-19 23:43:04</td>\n    </tr>\n    <tr>\n      <th>8</th>\n      <td>NaN</td>\n      <td>Switzerland</td>\n      <td>2020-03-19 21:13:15</td>\n    </tr>\n    <tr>\n      <th>9</th>\n      <td>United Kingdom</td>\n      <td>United Kingdom</td>\n      <td>2020-03-19 17:13:27</td>\n    </tr>\n    <tr>\n      <th>10</th>\n      <td>Netherlands</td>\n      <td>Netherlands</td>\n      <td>2020-03-19 14:53:06</td>\n    </tr>\n    <tr>\n      <th>11</th>\n      <td>NaN</td>\n      <td>Austria</td>\n      <td>2020-03-19 14:53:05</td>\n    </tr>\n    <tr>\n      <th>12</th>\n      <td>NaN</td>\n      <td>Belgium</td>\n      <td>2020-03-19 11:13:17</td>\n    </tr>\n    <tr>\n      <th>13</th>\n      <td>NaN</td>\n      <td>Norway</td>\n      <td>2020-03-19 17:13:14</td>\n    </tr>\n    <tr>\n      <th>14</th>\n      <td>NaN</td>\n      <td>Sweden</td>\n      <td>2020-03-19 15:13:27</td>\n    </tr>\n    <tr>\n      <th>15</th>\n      <td>Guangdong</td>\n      <td>China</td>\n      <td>2020-03-19 01:13:06</td>\n    </tr>\n    <tr>\n      <th>16</th>\n      <td>Washington</td>\n      <td>US</td>\n      <td>2020-03-19 23:43:04</td>\n    </tr>\n    <tr>\n      <th>17</th>\n      <td>Henan</td>\n      <td>China</td>\n      <td>2020-03-14 09:53:08</td>\n    </tr>\n    <tr>\n      <th>18</th>\n      <td>Zhejiang</td>\n      <td>China</td>\n      <td>2020-03-19 10:13:14</td>\n    </tr>\n    <tr>\n      <th>19</th>\n      <td>Denmark</td>\n      <td>Denmark</td>\n      <td>2020-03-19 17:13:42</td>\n    </tr>\n  </tbody>\n</table>\n</div>"
     },
     "metadata": {},
     "execution_count": 9
    }
   ],
   "source": [
    "# using iloc, select row 0 up to 20, for the first 3 columns\n",
    "df.iloc[:20,:3]"
   ]
  },
  {
   "cell_type": "code",
   "execution_count": 11,
   "metadata": {},
   "outputs": [
    {
     "output_type": "execute_result",
     "data": {
      "text/plain": "     Confirmed  Latitude\n272          1   12.8654\n273          1   12.9843\n274          1    5.1521\n275          1    3.9193\n276          1    8.6195\n277          1   37.0902\n278          1   16.7425\n279          0   35.4437\n280          0    4.0000\n281          0   16.2500\n282          0  -12.8431\n283          0  -21.1351\n284          0   72.0000\n285          0   13.4443\n286          0   49.4500\n287          0   49.1900\n288          0   18.2000\n289          0   -1.4400\n290          0   24.2500\n291          0   13.4667",
      "text/html": "<div>\n<style scoped>\n    .dataframe tbody tr th:only-of-type {\n        vertical-align: middle;\n    }\n\n    .dataframe tbody tr th {\n        vertical-align: top;\n    }\n\n    .dataframe thead th {\n        text-align: right;\n    }\n</style>\n<table border=\"1\" class=\"dataframe\">\n  <thead>\n    <tr style=\"text-align: right;\">\n      <th></th>\n      <th>Confirmed</th>\n      <th>Latitude</th>\n    </tr>\n  </thead>\n  <tbody>\n    <tr>\n      <th>272</th>\n      <td>1</td>\n      <td>12.8654</td>\n    </tr>\n    <tr>\n      <th>273</th>\n      <td>1</td>\n      <td>12.9843</td>\n    </tr>\n    <tr>\n      <th>274</th>\n      <td>1</td>\n      <td>5.1521</td>\n    </tr>\n    <tr>\n      <th>275</th>\n      <td>1</td>\n      <td>3.9193</td>\n    </tr>\n    <tr>\n      <th>276</th>\n      <td>1</td>\n      <td>8.6195</td>\n    </tr>\n    <tr>\n      <th>277</th>\n      <td>1</td>\n      <td>37.0902</td>\n    </tr>\n    <tr>\n      <th>278</th>\n      <td>1</td>\n      <td>16.7425</td>\n    </tr>\n    <tr>\n      <th>279</th>\n      <td>0</td>\n      <td>35.4437</td>\n    </tr>\n    <tr>\n      <th>280</th>\n      <td>0</td>\n      <td>4.0000</td>\n    </tr>\n    <tr>\n      <th>281</th>\n      <td>0</td>\n      <td>16.2500</td>\n    </tr>\n    <tr>\n      <th>282</th>\n      <td>0</td>\n      <td>-12.8431</td>\n    </tr>\n    <tr>\n      <th>283</th>\n      <td>0</td>\n      <td>-21.1351</td>\n    </tr>\n    <tr>\n      <th>284</th>\n      <td>0</td>\n      <td>72.0000</td>\n    </tr>\n    <tr>\n      <th>285</th>\n      <td>0</td>\n      <td>13.4443</td>\n    </tr>\n    <tr>\n      <th>286</th>\n      <td>0</td>\n      <td>49.4500</td>\n    </tr>\n    <tr>\n      <th>287</th>\n      <td>0</td>\n      <td>49.1900</td>\n    </tr>\n    <tr>\n      <th>288</th>\n      <td>0</td>\n      <td>18.2000</td>\n    </tr>\n    <tr>\n      <th>289</th>\n      <td>0</td>\n      <td>-1.4400</td>\n    </tr>\n    <tr>\n      <th>290</th>\n      <td>0</td>\n      <td>24.2500</td>\n    </tr>\n    <tr>\n      <th>291</th>\n      <td>0</td>\n      <td>13.4667</td>\n    </tr>\n  </tbody>\n</table>\n</div>"
     },
     "metadata": {},
     "execution_count": 11
    }
   ],
   "source": [
    "# using iloc, and then loc, select the last 20 records, for columns 'Confirmed' & 'Latitude'\n",
    "df.iloc[-20:].loc[:,['Confirmed','Latitude']]"
   ]
  },
  {
   "cell_type": "code",
   "execution_count": 13,
   "metadata": {},
   "outputs": [
    {
     "output_type": "execute_result",
     "data": {
      "text/plain": "Confirmed    19209.00000\nDeaths         923.90000\nRecovered     7068.40000\nLatitude        42.34022\nLongitude       24.50524\ndtype: float64"
     },
     "metadata": {},
     "execution_count": 13
    }
   ],
   "source": [
    "# using sort_values() and then mean(), determine the average amount of Confirmed cases in the top 10 Countries\n",
    "df.sort_values('Confirmed', ascending=False).iloc[:10].mean()"
   ]
  },
  {
   "cell_type": "code",
   "execution_count": 14,
   "metadata": {},
   "outputs": [
    {
     "output_type": "execute_result",
     "data": {
      "text/plain": "   Country/Region\n0           China\n1           Italy\n2            Iran\n3           Spain\n6    Korea, South\n15          China\n17          China\n18          China\n20          China",
      "text/html": "<div>\n<style scoped>\n    .dataframe tbody tr th:only-of-type {\n        vertical-align: middle;\n    }\n\n    .dataframe tbody tr th {\n        vertical-align: top;\n    }\n\n    .dataframe thead th {\n        text-align: right;\n    }\n</style>\n<table border=\"1\" class=\"dataframe\">\n  <thead>\n    <tr style=\"text-align: right;\">\n      <th></th>\n      <th>Country/Region</th>\n    </tr>\n  </thead>\n  <tbody>\n    <tr>\n      <th>0</th>\n      <td>China</td>\n    </tr>\n    <tr>\n      <th>1</th>\n      <td>Italy</td>\n    </tr>\n    <tr>\n      <th>2</th>\n      <td>Iran</td>\n    </tr>\n    <tr>\n      <th>3</th>\n      <td>Spain</td>\n    </tr>\n    <tr>\n      <th>6</th>\n      <td>Korea, South</td>\n    </tr>\n    <tr>\n      <th>15</th>\n      <td>China</td>\n    </tr>\n    <tr>\n      <th>17</th>\n      <td>China</td>\n    </tr>\n    <tr>\n      <th>18</th>\n      <td>China</td>\n    </tr>\n    <tr>\n      <th>20</th>\n      <td>China</td>\n    </tr>\n  </tbody>\n</table>\n</div>"
     },
     "metadata": {},
     "execution_count": 14
    }
   ],
   "source": [
    "#give a list of countries with more than 1000 recovered patiens\n",
    "df[df['Recovered'] > 1000].loc[:,['Country/Region']]"
   ]
  },
  {
   "cell_type": "code",
   "execution_count": 19,
   "metadata": {},
   "outputs": [
    {
     "output_type": "stream",
     "name": "stdout",
     "text": "above equator: Deaths    9824\ndtype: int64\nbelow equator: Deaths    43\ndtype: int64\non the equator: Deaths    0\ndtype: int64\n"
    }
   ],
   "source": [
    "# compare the amount of deaths above and below the equator: hint: Latitude above 0 is North of the equator, use sum()\n",
    "print(\"above equator: \" + str(df[df['Latitude']>0].loc[:,['Deaths']].sum()))\n",
    "print(\"below equator: \" + str(df[df['Latitude']<0].loc[:,['Deaths']].sum()))\n",
    "print(\"on the equator: \" + str(df[df['Latitude']==0].loc[:,['Deaths']].sum()))"
   ]
  }
 ]
}